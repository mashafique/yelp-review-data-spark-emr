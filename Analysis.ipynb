{
 "cells": [
  {
   "cell_type": "markdown",
   "id": "18a81e7f",
   "metadata": {},
   "source": [
    "# Analysis of Yelp Business Intelligence Data"
   ]
  },
  {
   "cell_type": "markdown",
   "id": "b8ba2caa",
   "metadata": {},
   "source": [
    "We will analyze a subset of Yelp's business, reviews and user data. This dataset comes to us from Kaggle although we have taken steps to pull this data into a publis s3 bucket: `s3://cis9760-yelpdataset/yelp-light/*business.json`"
   ]
  },
  {
   "cell_type": "markdown",
   "id": "5b26b5a8",
   "metadata": {},
   "source": [
    "# Installation and Initial Setup"
   ]
  },
  {
   "cell_type": "markdown",
   "id": "a4476bf7",
   "metadata": {},
   "source": [
    "Begin by installing the necessary libraries that you may need to conduct your analysis. At the very least, you must install `pandas` and `matplotlib`"
   ]
  },
  {
   "cell_type": "code",
   "execution_count": 1,
   "id": "11dc1de9",
   "metadata": {
    "scrolled": false
   },
   "outputs": [
    {
     "data": {
      "application/vnd.jupyter.widget-view+json": {
       "model_id": "b298978485c3454a9a8ebfcac8298d4f",
       "version_major": 2,
       "version_minor": 0
      },
      "text/plain": [
       "VBox()"
      ]
     },
     "metadata": {},
     "output_type": "display_data"
    },
    {
     "name": "stdout",
     "output_type": "stream",
     "text": [
      "Starting Spark application\n"
     ]
    },
    {
     "data": {
      "text/html": [
       "<table>\n",
       "<tr><th>ID</th><th>YARN Application ID</th><th>Kind</th><th>State</th><th>Spark UI</th><th>Driver log</th><th>Current session?</th></tr><tr><td>5</td><td>application_1651329176362_0006</td><td>pyspark</td><td>idle</td><td><a target=\"_blank\" href=\"http://ip-172-31-40-245.ec2.internal:20888/proxy/application_1651329176362_0006/\">Link</a></td><td><a target=\"_blank\" href=\"http://ip-172-31-46-65.ec2.internal:8042/node/containerlogs/container_1651329176362_0006_01_000001/livy\">Link</a></td><td>✔</td></tr></table>"
      ],
      "text/plain": [
       "<IPython.core.display.HTML object>"
      ]
     },
     "metadata": {},
     "output_type": "display_data"
    },
    {
     "data": {
      "application/vnd.jupyter.widget-view+json": {
       "model_id": "",
       "version_major": 2,
       "version_minor": 0
      },
      "text/plain": [
       "FloatProgress(value=0.0, bar_style='info', description='Progress:', layout=Layout(height='25px', width='50%'),…"
      ]
     },
     "metadata": {},
     "output_type": "display_data"
    },
    {
     "name": "stdout",
     "output_type": "stream",
     "text": [
      "SparkSession available as 'spark'.\n"
     ]
    },
    {
     "data": {
      "application/vnd.jupyter.widget-view+json": {
       "model_id": "",
       "version_major": 2,
       "version_minor": 0
      },
      "text/plain": [
       "FloatProgress(value=0.0, bar_style='info', description='Progress:', layout=Layout(height='25px', width='50%'),…"
      ]
     },
     "metadata": {},
     "output_type": "display_data"
    },
    {
     "name": "stdout",
     "output_type": "stream",
     "text": [
      "Collecting matplotlib==3.2.1\n",
      "  Using cached https://files.pythonhosted.org/packages/b2/c2/71fcf957710f3ba1f09088b35776a799ba7dd95f7c2b195ec800933b276b/matplotlib-3.2.1-cp37-cp37m-manylinux1_x86_64.whl\n",
      "Collecting python-dateutil>=2.1 (from matplotlib==3.2.1)\n",
      "  Using cached https://files.pythonhosted.org/packages/36/7a/87837f39d0296e723bb9b62bbb257d0355c7f6128853c78955f57342a56d/python_dateutil-2.8.2-py2.py3-none-any.whl\n",
      "Collecting pyparsing!=2.0.4,!=2.1.2,!=2.1.6,>=2.0.1 (from matplotlib==3.2.1)\n",
      "  Using cached https://files.pythonhosted.org/packages/d9/41/d9cfb4410589805cd787f8a82cddd13142d9bf7449d12adf2d05a4a7d633/pyparsing-3.0.8-py3-none-any.whl\n",
      "Collecting cycler>=0.10 (from matplotlib==3.2.1)\n",
      "  Using cached https://files.pythonhosted.org/packages/5c/f9/695d6bedebd747e5eb0fe8fad57b72fdf25411273a39791cde838d5a8f51/cycler-0.11.0-py3-none-any.whl\n",
      "Requirement already satisfied: numpy>=1.11 in /usr/local/lib64/python3.7/site-packages (from matplotlib==3.2.1)\n",
      "Collecting kiwisolver>=1.0.1 (from matplotlib==3.2.1)\n",
      "  Using cached https://files.pythonhosted.org/packages/51/50/9a9a94afa26c50fc5d9127272737806990aa698c7a1c220b8e5075e70304/kiwisolver-1.4.2-cp37-cp37m-manylinux_2_5_x86_64.manylinux1_x86_64.whl\n",
      "Requirement already satisfied: six>=1.5 in /usr/local/lib/python3.7/site-packages (from python-dateutil>=2.1->matplotlib==3.2.1)\n",
      "Collecting typing-extensions; python_version < \"3.8\" (from kiwisolver>=1.0.1->matplotlib==3.2.1)\n",
      "  Using cached https://files.pythonhosted.org/packages/75/e1/932e06004039dd670c9d5e1df0cd606bf46e29a28e65d5bb28e894ea29c9/typing_extensions-4.2.0-py3-none-any.whl\n",
      "Installing collected packages: python-dateutil, pyparsing, cycler, typing-extensions, kiwisolver, matplotlib\n",
      "Successfully installed cycler-0.11.0 kiwisolver-1.4.2 matplotlib-3.2.1 pyparsing-3.0.8 python-dateutil-2.8.2 typing-extensions-4.2.0\n",
      "\n",
      "Collecting pandas==1.0.3\n",
      "  Using cached https://files.pythonhosted.org/packages/4a/6a/94b219b8ea0f2d580169e85ed1edc0163743f55aaeca8a44c2e8fc1e344e/pandas-1.0.3-cp37-cp37m-manylinux1_x86_64.whl\n",
      "Requirement already satisfied: pytz>=2017.2 in /usr/local/lib/python3.7/site-packages (from pandas==1.0.3)\n",
      "Requirement already satisfied: numpy>=1.13.3 in /usr/local/lib64/python3.7/site-packages (from pandas==1.0.3)\n",
      "Requirement already satisfied: python-dateutil>=2.6.1 in /mnt/tmp/1651336864941-0/lib/python3.7/site-packages (from pandas==1.0.3)\n",
      "Requirement already satisfied: six>=1.5 in /usr/local/lib/python3.7/site-packages (from python-dateutil>=2.6.1->pandas==1.0.3)\n",
      "Installing collected packages: pandas\n",
      "Successfully installed pandas-1.0.3\n",
      "\n",
      "Collecting pip==22.0.4\n",
      "  Using cached https://files.pythonhosted.org/packages/4d/16/0a14ca596f30316efd412a60bdfac02a7259bf8673d4d917dc60b9a21812/pip-22.0.4-py3-none-any.whl\n",
      "Installing collected packages: pip\n",
      "  Found existing installation: pip 9.0.1\n",
      "    Uninstalling pip-9.0.1:\n",
      "      Successfully uninstalled pip-9.0.1\n",
      "Successfully installed pip-22.0.4\n",
      "\n",
      "Collecting seaborn==0.11.1\n",
      "  Using cached seaborn-0.11.1-py3-none-any.whl (285 kB)\n",
      "Requirement already satisfied: pandas>=0.23 in /mnt/tmp/1651336864941-0/lib/python3.7/site-packages (from seaborn==0.11.1) (1.0.3)\n",
      "Collecting scipy>=1.0\n",
      "  Using cached scipy-1.7.3-cp37-cp37m-manylinux_2_12_x86_64.manylinux2010_x86_64.whl (38.1 MB)\n",
      "Requirement already satisfied: matplotlib>=2.2 in /mnt/tmp/1651336864941-0/lib/python3.7/site-packages (from seaborn==0.11.1) (3.2.1)\n",
      "Requirement already satisfied: numpy>=1.15 in /usr/local/lib64/python3.7/site-packages (from seaborn==0.11.1) (1.16.5)\n",
      "Requirement already satisfied: cycler>=0.10 in /mnt/tmp/1651336864941-0/lib/python3.7/site-packages (from matplotlib>=2.2->seaborn==0.11.1) (0.11.0)\n",
      "Requirement already satisfied: python-dateutil>=2.1 in /mnt/tmp/1651336864941-0/lib/python3.7/site-packages (from matplotlib>=2.2->seaborn==0.11.1) (2.8.2)\n",
      "Requirement already satisfied: kiwisolver>=1.0.1 in /mnt/tmp/1651336864941-0/lib/python3.7/site-packages (from matplotlib>=2.2->seaborn==0.11.1) (1.4.2)\n",
      "Requirement already satisfied: pyparsing!=2.0.4,!=2.1.2,!=2.1.6,>=2.0.1 in /mnt/tmp/1651336864941-0/lib/python3.7/site-packages (from matplotlib>=2.2->seaborn==0.11.1) (3.0.8)\n",
      "Requirement already satisfied: pytz>=2017.2 in /usr/local/lib/python3.7/site-packages (from pandas>=0.23->seaborn==0.11.1) (2020.1)\n",
      "Requirement already satisfied: typing-extensions in /mnt/tmp/1651336864941-0/lib/python3.7/site-packages (from kiwisolver>=1.0.1->matplotlib>=2.2->seaborn==0.11.1) (4.2.0)\n",
      "Requirement already satisfied: six>=1.5 in /usr/local/lib/python3.7/site-packages (from python-dateutil>=2.1->matplotlib>=2.2->seaborn==0.11.1) (1.13.0)\n",
      "Installing collected packages: scipy, seaborn\n",
      "Successfully installed scipy-1.7.3 seaborn-0.11.1"
     ]
    }
   ],
   "source": [
    "sc.install_pypi_package(\"matplotlib==3.2.1\")\n",
    "sc.install_pypi_package(\"pandas==1.0.3\")\n",
    "sc.install_pypi_package(\"pip==22.0.4\")\n",
    "sc.install_pypi_package(\"seaborn==0.11.1\")"
   ]
  },
  {
   "cell_type": "markdown",
   "id": "a6b093ff",
   "metadata": {},
   "source": [
    "## Importing"
   ]
  },
  {
   "cell_type": "markdown",
   "id": "fb96b93e",
   "metadata": {},
   "source": [
    "Now, import the installed packages from the previous block below."
   ]
  },
  {
   "cell_type": "code",
   "execution_count": 2,
   "id": "2e280849",
   "metadata": {},
   "outputs": [
    {
     "data": {
      "application/vnd.jupyter.widget-view+json": {
       "model_id": "721f5bf364ee4a57b8a17cfd3ca7ac1e",
       "version_major": 2,
       "version_minor": 0
      },
      "text/plain": [
       "VBox()"
      ]
     },
     "metadata": {},
     "output_type": "display_data"
    },
    {
     "data": {
      "application/vnd.jupyter.widget-view+json": {
       "model_id": "",
       "version_major": 2,
       "version_minor": 0
      },
      "text/plain": [
       "FloatProgress(value=0.0, bar_style='info', description='Progress:', layout=Layout(height='25px', width='50%'),…"
      ]
     },
     "metadata": {},
     "output_type": "display_data"
    }
   ],
   "source": [
    "from pyspark.sql.functions import col, explode, split, mean, length\n",
    "import pandas as pd\n",
    "import numpy as np\n",
    "import matplotlib.pyplot as plt\n",
    "import seaborn as sns"
   ]
  },
  {
   "cell_type": "markdown",
   "id": "df63a92b",
   "metadata": {},
   "source": [
    "## Loading Data"
   ]
  },
  {
   "cell_type": "markdown",
   "id": "15d8e133",
   "metadata": {},
   "source": [
    "We are finally ready to load data. Using spark load the data from S3 into a dataframe object that we can manipulate further down in our analysis."
   ]
  },
  {
   "cell_type": "code",
   "execution_count": 3,
   "id": "e38c7612",
   "metadata": {
    "scrolled": false
   },
   "outputs": [
    {
     "data": {
      "application/vnd.jupyter.widget-view+json": {
       "model_id": "a2517571599c4bb68be34463ac25b0f4",
       "version_major": 2,
       "version_minor": 0
      },
      "text/plain": [
       "VBox()"
      ]
     },
     "metadata": {},
     "output_type": "display_data"
    },
    {
     "data": {
      "application/vnd.jupyter.widget-view+json": {
       "model_id": "",
       "version_major": 2,
       "version_minor": 0
      },
      "text/plain": [
       "FloatProgress(value=0.0, bar_style='info', description='Progress:', layout=Layout(height='25px', width='50%'),…"
      ]
     },
     "metadata": {},
     "output_type": "display_data"
    }
   ],
   "source": [
    "business = spark.read.json(\"s3://mohammad-yelp/yelp_academic_dataset_business.json\")\n",
    "checkin = spark.read.json(\"s3://mohammad-yelp/yelp_academic_dataset_checkin.json\")\n",
    "review = spark.read.json(\"s3://mohammad-yelp/yelp_academic_dataset_review.json\")\n",
    "tip = spark.read.json(\"s3://mohammad-yelp/yelp_academic_dataset_tip.json\")\n",
    "user = spark.read.json(\"s3://mohammad-yelp/yelp_academic_dataset_user.json\")"
   ]
  },
  {
   "cell_type": "code",
   "execution_count": 4,
   "id": "97f53de1",
   "metadata": {},
   "outputs": [
    {
     "data": {
      "application/vnd.jupyter.widget-view+json": {
       "model_id": "03292978fa0e4e5aa275a14a6ee9a78e",
       "version_major": 2,
       "version_minor": 0
      },
      "text/plain": [
       "VBox()"
      ]
     },
     "metadata": {},
     "output_type": "display_data"
    },
    {
     "data": {
      "application/vnd.jupyter.widget-view+json": {
       "model_id": "",
       "version_major": 2,
       "version_minor": 0
      },
      "text/plain": [
       "FloatProgress(value=0.0, bar_style='info', description='Progress:', layout=Layout(height='25px', width='50%'),…"
      ]
     },
     "metadata": {},
     "output_type": "display_data"
    },
    {
     "name": "stdout",
     "output_type": "stream",
     "text": [
      "+-------------------------------+---------------------------------------------------------------------------------------------------------------------------------------------------------------------------------------------------------------+----------------------+----------------------------------------------------------------------------------------------------------+-------------+----------------------------------------------------------------------+-------+----------+------------+------------------------+-----------+------------+-----+-----+\n",
      "|address                        |attributes                                                                                                                                                                                                     |business_id           |categories                                                                                                |city         |hours                                                                 |is_open|latitude  |longitude   |name                    |postal_code|review_count|stars|state|\n",
      "+-------------------------------+---------------------------------------------------------------------------------------------------------------------------------------------------------------------------------------------------------------+----------------------+----------------------------------------------------------------------------------------------------------+-------------+----------------------------------------------------------------------+-------+----------+------------+------------------------+-----------+------------+-----+-----+\n",
      "|1616 Chapala St, Ste 2         |[,,,,,,,,,,, True,,,,,,,,,,,,,,,,,,,,,,,,,,,]                                                                                                                                                                  |Pns2l4eNsfO8kk83dixA6A|Doctors, Traditional Chinese Medicine, Naturopathic/Holistic, Acupuncture, Health & Medical, Nutritionists|Santa Barbara|null                                                                  |0      |34.4266787|-119.7111968|Abby Rappoport, LAC, CMQ|93101      |7           |5.0  |CA   |\n",
      "|87 Grasso Plaza Shopping Center|[,,,,,,,,, True,,,,,,,,,,,,,,,,,,,,,,,,,,,,,]                                                                                                                                                                  |mpf3x-BjTdTEA3yCZrAYPw|Shipping Centers, Local Services, Notaries, Mailbox Centers, Printing Services                            |Affton       |[8:0-18:30, 0:0-0:0, 8:0-14:0,, 8:0-18:30, 8:0-18:30, 8:0-18:30]      |1      |38.551126 |-90.335695  |The UPS Store           |63123      |15          |3.0  |MO   |\n",
      "|5255 E Broadway Blvd           |[,,,,,,, True,, True, {'garage': False, 'street': False, 'validated': False, 'lot': True, 'valet': False}, False, False, False,,, False,,,,,, False, False,,,, False,,, False,, 2, False,, False,, True, u'no']|tUFrWirKiKi_TAnsVWINQQ|Department Stores, Shopping, Fashion, Home & Garden, Electronics, Furniture Stores                        |Tucson       |[8:0-23:0, 8:0-22:0, 8:0-23:0, 8:0-22:0, 8:0-22:0, 8:0-22:0, 8:0-22:0]|0      |32.223236 |-110.880452 |Target                  |85711      |22          |3.5  |AZ   |\n",
      "|935 Race St                    |[,, u'none',,,,, True,, False, {'garage': False, 'street': True, 'validated': False, 'lot': False, 'valet': False}, False, True,,,,,,,,,,,,,,, False,,, False,, 1,,, True,,, u'free']                          |MTSW4McQd7CbVtyjqoe9mw|Restaurants, Food, Bubble Tea, Coffee & Tea, Bakeries                                                     |Philadelphia |[7:0-21:0, 7:0-20:0, 7:0-21:0, 7:0-21:0, 7:0-20:0, 7:0-20:0, 7:0-20:0]|1      |39.9555052|-75.1555641 |St Honore Pastries      |19107      |80          |4.0  |PA   |\n",
      "|101 Walnut St                  |[,,,,,,, True,, True, {'garage': None, 'street': None, 'validated': None, 'lot': True, 'valet': False},, False,,,,,,, True,,,,,,,,,,,,,,,, True,, True,]                                                       |mWMc6_wTdE0EUBKIGXDVfA|Brewpubs, Breweries, Food                                                                                 |Green Lane   |[12:0-22:0,, 12:0-22:0, 12:0-18:0, 16:0-22:0,, 14:0-22:0]             |1      |40.3381827|-75.4716585 |Perkiomen Valley Brewery|18054      |13          |4.5  |PA   |\n",
      "+-------------------------------+---------------------------------------------------------------------------------------------------------------------------------------------------------------------------------------------------------------+----------------------+----------------------------------------------------------------------------------------------------------+-------------+----------------------------------------------------------------------+-------+----------+------------+------------------------+-----------+------------+-----+-----+\n",
      "only showing top 5 rows"
     ]
    }
   ],
   "source": [
    "business.show(5, truncate=False)"
   ]
  },
  {
   "cell_type": "markdown",
   "id": "7abb866d",
   "metadata": {},
   "source": [
    "# Overview of Data"
   ]
  },
  {
   "cell_type": "markdown",
   "id": "07c787ca",
   "metadata": {},
   "source": [
    "Display the number of rows and columns in our dataset."
   ]
  },
  {
   "cell_type": "code",
   "execution_count": 5,
   "id": "37f50604",
   "metadata": {},
   "outputs": [
    {
     "data": {
      "application/vnd.jupyter.widget-view+json": {
       "model_id": "08f6b1582d5c4b7bb98162f0e8fea08d",
       "version_major": 2,
       "version_minor": 0
      },
      "text/plain": [
       "VBox()"
      ]
     },
     "metadata": {},
     "output_type": "display_data"
    },
    {
     "data": {
      "application/vnd.jupyter.widget-view+json": {
       "model_id": "",
       "version_major": 2,
       "version_minor": 0
      },
      "text/plain": [
       "FloatProgress(value=0.0, bar_style='info', description='Progress:', layout=Layout(height='25px', width='50%'),…"
      ]
     },
     "metadata": {},
     "output_type": "display_data"
    },
    {
     "name": "stdout",
     "output_type": "stream",
     "text": [
      "Number of columns in the Business table: 14\n",
      "Number of rows in the Business table: 150346"
     ]
    }
   ],
   "source": [
    "print(f\"Number of columns in the Business table: {len(business.columns)}\", f\"Number of rows in the Business table: {business.count()}\", sep='\\n')"
   ]
  },
  {
   "cell_type": "markdown",
   "id": "dc29ae82",
   "metadata": {},
   "source": [
    "Display the DataFrame schema below."
   ]
  },
  {
   "cell_type": "code",
   "execution_count": 6,
   "id": "cfe415f7",
   "metadata": {},
   "outputs": [
    {
     "data": {
      "application/vnd.jupyter.widget-view+json": {
       "model_id": "6f16429ab1184581b0797dba6060c295",
       "version_major": 2,
       "version_minor": 0
      },
      "text/plain": [
       "VBox()"
      ]
     },
     "metadata": {},
     "output_type": "display_data"
    },
    {
     "data": {
      "application/vnd.jupyter.widget-view+json": {
       "model_id": "",
       "version_major": 2,
       "version_minor": 0
      },
      "text/plain": [
       "FloatProgress(value=0.0, bar_style='info', description='Progress:', layout=Layout(height='25px', width='50%'),…"
      ]
     },
     "metadata": {},
     "output_type": "display_data"
    },
    {
     "name": "stdout",
     "output_type": "stream",
     "text": [
      "root\n",
      " |-- address: string (nullable = true)\n",
      " |-- attributes: struct (nullable = true)\n",
      " |    |-- AcceptsInsurance: string (nullable = true)\n",
      " |    |-- AgesAllowed: string (nullable = true)\n",
      " |    |-- Alcohol: string (nullable = true)\n",
      " |    |-- Ambience: string (nullable = true)\n",
      " |    |-- BYOB: string (nullable = true)\n",
      " |    |-- BYOBCorkage: string (nullable = true)\n",
      " |    |-- BestNights: string (nullable = true)\n",
      " |    |-- BikeParking: string (nullable = true)\n",
      " |    |-- BusinessAcceptsBitcoin: string (nullable = true)\n",
      " |    |-- BusinessAcceptsCreditCards: string (nullable = true)\n",
      " |    |-- BusinessParking: string (nullable = true)\n",
      " |    |-- ByAppointmentOnly: string (nullable = true)\n",
      " |    |-- Caters: string (nullable = true)\n",
      " |    |-- CoatCheck: string (nullable = true)\n",
      " |    |-- Corkage: string (nullable = true)\n",
      " |    |-- DietaryRestrictions: string (nullable = true)\n",
      " |    |-- DogsAllowed: string (nullable = true)\n",
      " |    |-- DriveThru: string (nullable = true)\n",
      " |    |-- GoodForDancing: string (nullable = true)\n",
      " |    |-- GoodForKids: string (nullable = true)\n",
      " |    |-- GoodForMeal: string (nullable = true)\n",
      " |    |-- HairSpecializesIn: string (nullable = true)\n",
      " |    |-- HappyHour: string (nullable = true)\n",
      " |    |-- HasTV: string (nullable = true)\n",
      " |    |-- Music: string (nullable = true)\n",
      " |    |-- NoiseLevel: string (nullable = true)\n",
      " |    |-- Open24Hours: string (nullable = true)\n",
      " |    |-- OutdoorSeating: string (nullable = true)\n",
      " |    |-- RestaurantsAttire: string (nullable = true)\n",
      " |    |-- RestaurantsCounterService: string (nullable = true)\n",
      " |    |-- RestaurantsDelivery: string (nullable = true)\n",
      " |    |-- RestaurantsGoodForGroups: string (nullable = true)\n",
      " |    |-- RestaurantsPriceRange2: string (nullable = true)\n",
      " |    |-- RestaurantsReservations: string (nullable = true)\n",
      " |    |-- RestaurantsTableService: string (nullable = true)\n",
      " |    |-- RestaurantsTakeOut: string (nullable = true)\n",
      " |    |-- Smoking: string (nullable = true)\n",
      " |    |-- WheelchairAccessible: string (nullable = true)\n",
      " |    |-- WiFi: string (nullable = true)\n",
      " |-- business_id: string (nullable = true)\n",
      " |-- categories: string (nullable = true)\n",
      " |-- city: string (nullable = true)\n",
      " |-- hours: struct (nullable = true)\n",
      " |    |-- Friday: string (nullable = true)\n",
      " |    |-- Monday: string (nullable = true)\n",
      " |    |-- Saturday: string (nullable = true)\n",
      " |    |-- Sunday: string (nullable = true)\n",
      " |    |-- Thursday: string (nullable = true)\n",
      " |    |-- Tuesday: string (nullable = true)\n",
      " |    |-- Wednesday: string (nullable = true)\n",
      " |-- is_open: long (nullable = true)\n",
      " |-- latitude: double (nullable = true)\n",
      " |-- longitude: double (nullable = true)\n",
      " |-- name: string (nullable = true)\n",
      " |-- postal_code: string (nullable = true)\n",
      " |-- review_count: long (nullable = true)\n",
      " |-- stars: double (nullable = true)\n",
      " |-- state: string (nullable = true)"
     ]
    }
   ],
   "source": [
    "business.printSchema()"
   ]
  },
  {
   "cell_type": "markdown",
   "id": "75278d43",
   "metadata": {},
   "source": [
    "Display the first 5 rows with the following columns:\n",
    "\n",
    "* `business_id`\n",
    "* `name`\n",
    "* `city`\n",
    "* `state`\n",
    "* `categories`"
   ]
  },
  {
   "cell_type": "code",
   "execution_count": 7,
   "id": "f687865d",
   "metadata": {},
   "outputs": [
    {
     "data": {
      "application/vnd.jupyter.widget-view+json": {
       "model_id": "ef4769dc0ff145d2951d41fcb79ccdf2",
       "version_major": 2,
       "version_minor": 0
      },
      "text/plain": [
       "VBox()"
      ]
     },
     "metadata": {},
     "output_type": "display_data"
    },
    {
     "data": {
      "application/vnd.jupyter.widget-view+json": {
       "model_id": "",
       "version_major": 2,
       "version_minor": 0
      },
      "text/plain": [
       "FloatProgress(value=0.0, bar_style='info', description='Progress:', layout=Layout(height='25px', width='50%'),…"
      ]
     },
     "metadata": {},
     "output_type": "display_data"
    }
   ],
   "source": [
    "cleaned_business = business \\\n",
    "    .filter(business.business_id.isNotNull() & business.name.isNotNull() & business.city.isNotNull() & business.state.isNotNull() & business.categories.isNotNull()) \\\n",
    "    .withColumn(\"business_stars\", col(\"stars\"))"
   ]
  },
  {
   "cell_type": "code",
   "execution_count": 8,
   "id": "8663784b",
   "metadata": {},
   "outputs": [
    {
     "data": {
      "application/vnd.jupyter.widget-view+json": {
       "model_id": "cc83a0ee4fa8492596cb4d280d66f4f9",
       "version_major": 2,
       "version_minor": 0
      },
      "text/plain": [
       "VBox()"
      ]
     },
     "metadata": {},
     "output_type": "display_data"
    },
    {
     "data": {
      "application/vnd.jupyter.widget-view+json": {
       "model_id": "",
       "version_major": 2,
       "version_minor": 0
      },
      "text/plain": [
       "FloatProgress(value=0.0, bar_style='info', description='Progress:', layout=Layout(height='25px', width='50%'),…"
      ]
     },
     "metadata": {},
     "output_type": "display_data"
    },
    {
     "name": "stdout",
     "output_type": "stream",
     "text": [
      "+----------------------+------------------------+-------------+-----+----------------------------------------------------------------------------------------------------------+\n",
      "|business_id           |name                    |city         |state|categories                                                                                                |\n",
      "+----------------------+------------------------+-------------+-----+----------------------------------------------------------------------------------------------------------+\n",
      "|Pns2l4eNsfO8kk83dixA6A|Abby Rappoport, LAC, CMQ|Santa Barbara|CA   |Doctors, Traditional Chinese Medicine, Naturopathic/Holistic, Acupuncture, Health & Medical, Nutritionists|\n",
      "|mpf3x-BjTdTEA3yCZrAYPw|The UPS Store           |Affton       |MO   |Shipping Centers, Local Services, Notaries, Mailbox Centers, Printing Services                            |\n",
      "|tUFrWirKiKi_TAnsVWINQQ|Target                  |Tucson       |AZ   |Department Stores, Shopping, Fashion, Home & Garden, Electronics, Furniture Stores                        |\n",
      "|MTSW4McQd7CbVtyjqoe9mw|St Honore Pastries      |Philadelphia |PA   |Restaurants, Food, Bubble Tea, Coffee & Tea, Bakeries                                                     |\n",
      "|mWMc6_wTdE0EUBKIGXDVfA|Perkiomen Valley Brewery|Green Lane   |PA   |Brewpubs, Breweries, Food                                                                                 |\n",
      "+----------------------+------------------------+-------------+-----+----------------------------------------------------------------------------------------------------------+\n",
      "only showing top 5 rows"
     ]
    }
   ],
   "source": [
    "cleaned_business.select(\"business_id\", \"name\", \"city\", \"state\", \"categories\").show(5, truncate=False)"
   ]
  },
  {
   "cell_type": "markdown",
   "id": "6fece28f",
   "metadata": {},
   "source": [
    "# Analyzing Categories"
   ]
  },
  {
   "cell_type": "markdown",
   "id": "c6c46d5b",
   "metadata": {},
   "source": [
    "Let's now answer this question: **how many unique categories are represented in this dataset?**\n",
    "\n",
    "Essentially, we have the categories per business as a list - this is useful to quickly see what each business might be represented as but it is difficult to easily answer questions such as:\n",
    "\n",
    "* How many businesses are categorized as `Active Life`, for instance\n",
    "* What are the top 20 most popular categories available?"
   ]
  },
  {
   "cell_type": "markdown",
   "id": "660fba04",
   "metadata": {},
   "source": [
    "## Association Table\n",
    "\n",
    "We need to \"break out\" these categories from the business ids? One common approach to take is to build an association table mapping a single business id multiple times to each distinct category.\n",
    "\n",
    "For instance, given the following:\n",
    "\n",
    "\n",
    "| business_id | categories |\n",
    "|-------------|------------|\n",
    "| abcd123     | a,b,c      |\n",
    "\n",
    "We would like to derive something like:\n",
    "\n",
    "| business_id | category |\n",
    "|-------------|------------|\n",
    "| abcd123     | a          |\n",
    "| abcd123     | b          |\n",
    "| abcd123     | c          |\n",
    "\n",
    "\n",
    "What this does is allow us to then perform a myriad of rollups and other analysis on this association table which can aid us in answering the questions asked above.\n",
    "\n",
    "Implement the code necessary to derive the table described from your original yelp dataframe."
   ]
  },
  {
   "cell_type": "code",
   "execution_count": 9,
   "id": "2ad70bb0",
   "metadata": {},
   "outputs": [
    {
     "data": {
      "application/vnd.jupyter.widget-view+json": {
       "model_id": "8e0f55d18c1545ba997292e63b9fdde7",
       "version_major": 2,
       "version_minor": 0
      },
      "text/plain": [
       "VBox()"
      ]
     },
     "metadata": {},
     "output_type": "display_data"
    },
    {
     "data": {
      "application/vnd.jupyter.widget-view+json": {
       "model_id": "",
       "version_major": 2,
       "version_minor": 0
      },
      "text/plain": [
       "FloatProgress(value=0.0, bar_style='info', description='Progress:', layout=Layout(height='25px', width='50%'),…"
      ]
     },
     "metadata": {},
     "output_type": "display_data"
    },
    {
     "name": "stdout",
     "output_type": "stream",
     "text": [
      "+----------------------+----------------------------------------------------------------------------------------------------------+\n",
      "|business_id           |categories                                                                                                |\n",
      "+----------------------+----------------------------------------------------------------------------------------------------------+\n",
      "|Pns2l4eNsfO8kk83dixA6A|Doctors, Traditional Chinese Medicine, Naturopathic/Holistic, Acupuncture, Health & Medical, Nutritionists|\n",
      "|mpf3x-BjTdTEA3yCZrAYPw|Shipping Centers, Local Services, Notaries, Mailbox Centers, Printing Services                            |\n",
      "|tUFrWirKiKi_TAnsVWINQQ|Department Stores, Shopping, Fashion, Home & Garden, Electronics, Furniture Stores                        |\n",
      "|MTSW4McQd7CbVtyjqoe9mw|Restaurants, Food, Bubble Tea, Coffee & Tea, Bakeries                                                     |\n",
      "|mWMc6_wTdE0EUBKIGXDVfA|Brewpubs, Breweries, Food                                                                                 |\n",
      "+----------------------+----------------------------------------------------------------------------------------------------------+\n",
      "only showing top 5 rows"
     ]
    }
   ],
   "source": [
    "cleaned_business.select(\"business_id\", \"categories\").show(5, truncate=False)"
   ]
  },
  {
   "cell_type": "markdown",
   "id": "5f92bc49",
   "metadata": {},
   "source": [
    "Display the first 5 rows of your association table below."
   ]
  },
  {
   "cell_type": "code",
   "execution_count": 10,
   "id": "00205942",
   "metadata": {},
   "outputs": [
    {
     "data": {
      "application/vnd.jupyter.widget-view+json": {
       "model_id": "68b7eb1d27da4efda4bdbba87212faa3",
       "version_major": 2,
       "version_minor": 0
      },
      "text/plain": [
       "VBox()"
      ]
     },
     "metadata": {},
     "output_type": "display_data"
    },
    {
     "data": {
      "application/vnd.jupyter.widget-view+json": {
       "model_id": "",
       "version_major": 2,
       "version_minor": 0
      },
      "text/plain": [
       "FloatProgress(value=0.0, bar_style='info', description='Progress:', layout=Layout(height='25px', width='50%'),…"
      ]
     },
     "metadata": {},
     "output_type": "display_data"
    },
    {
     "name": "stdout",
     "output_type": "stream",
     "text": [
      "+----------------------+----------------------------+\n",
      "|business_id           |category                    |\n",
      "+----------------------+----------------------------+\n",
      "|Pns2l4eNsfO8kk83dixA6A|Doctors                     |\n",
      "|Pns2l4eNsfO8kk83dixA6A|Traditional Chinese Medicine|\n",
      "|Pns2l4eNsfO8kk83dixA6A|Naturopathic/Holistic       |\n",
      "|Pns2l4eNsfO8kk83dixA6A|Acupuncture                 |\n",
      "|Pns2l4eNsfO8kk83dixA6A|Health & Medical            |\n",
      "+----------------------+----------------------------+\n",
      "only showing top 5 rows"
     ]
    }
   ],
   "source": [
    "business_categories_exploded = cleaned_business.withColumn(\"category\", explode(split(\"categories\", \", \")))\n",
    "business_categories_exploded.select(\"business_id\", \"category\").show(5, truncate=False)"
   ]
  },
  {
   "cell_type": "code",
   "execution_count": 11,
   "id": "39c5df01",
   "metadata": {},
   "outputs": [
    {
     "data": {
      "application/vnd.jupyter.widget-view+json": {
       "model_id": "1de97ee6496949a9ba3a11afc84d2e57",
       "version_major": 2,
       "version_minor": 0
      },
      "text/plain": [
       "VBox()"
      ]
     },
     "metadata": {},
     "output_type": "display_data"
    },
    {
     "data": {
      "application/vnd.jupyter.widget-view+json": {
       "model_id": "",
       "version_major": 2,
       "version_minor": 0
      },
      "text/plain": [
       "FloatProgress(value=0.0, bar_style='info', description='Progress:', layout=Layout(height='25px', width='50%'),…"
      ]
     },
     "metadata": {},
     "output_type": "display_data"
    },
    {
     "name": "stdout",
     "output_type": "stream",
     "text": [
      "-RECORD 0------------------------------\n",
      " address        | 1616 Chapala St, ... \n",
      " attributes     | [,,,,,,,,,,, True... \n",
      " business_id    | Pns2l4eNsfO8kk83d... \n",
      " categories     | Doctors, Traditio... \n",
      " city           | Santa Barbara        \n",
      " hours          | null                 \n",
      " is_open        | 0                    \n",
      " latitude       | 34.4266787           \n",
      " longitude      | -119.7111968         \n",
      " name           | Abby Rappoport, L... \n",
      " postal_code    | 93101                \n",
      " review_count   | 7                    \n",
      " stars          | 5.0                  \n",
      " state          | CA                   \n",
      " business_stars | 5.0                  \n",
      " category       | Doctors              \n",
      "only showing top 1 row"
     ]
    }
   ],
   "source": [
    "business_categories_exploded.show(1, vertical=True)"
   ]
  },
  {
   "cell_type": "markdown",
   "id": "0d0c598a",
   "metadata": {},
   "source": [
    "# Total Unique Categories"
   ]
  },
  {
   "cell_type": "markdown",
   "id": "64649a62",
   "metadata": {},
   "source": [
    "Finally, we are ready to answer the question: **what is the total number of unique categories available?**\n",
    "\n",
    "Below, implement the code necessary to calculate this figure."
   ]
  },
  {
   "cell_type": "code",
   "execution_count": 12,
   "id": "40b87683",
   "metadata": {},
   "outputs": [
    {
     "data": {
      "application/vnd.jupyter.widget-view+json": {
       "model_id": "a07ab506e6074e9bbc8911018d63b942",
       "version_major": 2,
       "version_minor": 0
      },
      "text/plain": [
       "VBox()"
      ]
     },
     "metadata": {},
     "output_type": "display_data"
    },
    {
     "data": {
      "application/vnd.jupyter.widget-view+json": {
       "model_id": "",
       "version_major": 2,
       "version_minor": 0
      },
      "text/plain": [
       "FloatProgress(value=0.0, bar_style='info', description='Progress:', layout=Layout(height='25px', width='50%'),…"
      ]
     },
     "metadata": {},
     "output_type": "display_data"
    },
    {
     "name": "stdout",
     "output_type": "stream",
     "text": [
      "1311"
     ]
    }
   ],
   "source": [
    "unique_categories_count = business_categories_exploded.select(\"category\").distinct().count()\n",
    "unique_categories_count"
   ]
  },
  {
   "cell_type": "markdown",
   "id": "8d0c0f03",
   "metadata": {},
   "source": [
    "## Top Categories By Business\n",
    "\n",
    "Now let's find the top categories in this dataset by rolling up categories."
   ]
  },
  {
   "cell_type": "markdown",
   "id": "7849d334",
   "metadata": {},
   "source": [
    "### Counts of Businesses / Category"
   ]
  },
  {
   "cell_type": "markdown",
   "id": "a6712312",
   "metadata": {},
   "source": [
    "So now, let's unroll our distinct count a bit and display the per count value of businesses per category.\n",
    "\n",
    "The expected output should be:\n",
    "\n",
    "| category | count |\n",
    "|-------------|------------|\n",
    "| a     | 15         |\n",
    "| b     | 2          |\n",
    "| c     | 45          |\n",
    "\n",
    "Or something to that effect."
   ]
  },
  {
   "cell_type": "code",
   "execution_count": 13,
   "id": "8dd8d2ff",
   "metadata": {},
   "outputs": [
    {
     "data": {
      "application/vnd.jupyter.widget-view+json": {
       "model_id": "7d149ebaee7b44eb82fc15c5f227df5d",
       "version_major": 2,
       "version_minor": 0
      },
      "text/plain": [
       "VBox()"
      ]
     },
     "metadata": {},
     "output_type": "display_data"
    },
    {
     "data": {
      "application/vnd.jupyter.widget-view+json": {
       "model_id": "",
       "version_major": 2,
       "version_minor": 0
      },
      "text/plain": [
       "FloatProgress(value=0.0, bar_style='info', description='Progress:', layout=Layout(height='25px', width='50%'),…"
      ]
     },
     "metadata": {},
     "output_type": "display_data"
    },
    {
     "name": "stdout",
     "output_type": "stream",
     "text": [
      "+--------------------+-----+\n",
      "|            category|count|\n",
      "+--------------------+-----+\n",
      "|      Paddleboarding|   98|\n",
      "|      Dermatologists|  336|\n",
      "|         Hobby Shops|  552|\n",
      "|          Bubble Tea|  477|\n",
      "|             Embassy|    3|\n",
      "|             Tanning|  667|\n",
      "|            Handyman|  356|\n",
      "|      Aerial Fitness|   19|\n",
      "|             Falafel|  103|\n",
      "|        Summer Camps|  232|\n",
      "|       Outlet Stores|  182|\n",
      "|     Clothing Rental|   37|\n",
      "|      Sporting Goods| 1662|\n",
      "|     Cooking Schools|   76|\n",
      "|  Lactation Services|   27|\n",
      "|Ski & Snowboard S...|   40|\n",
      "|             Museums|  413|\n",
      "|              Doulas|   31|\n",
      "|                Food|27781|\n",
      "|         Halotherapy|   23|\n",
      "+--------------------+-----+\n",
      "only showing top 20 rows"
     ]
    }
   ],
   "source": [
    "count_per_category = business_categories_exploded.select(\"category\") \\\n",
    "    .groupBy(\"category\") \\\n",
    "    .count()\n",
    "count_per_category.show(20)"
   ]
  },
  {
   "cell_type": "markdown",
   "id": "d0edd80e",
   "metadata": {},
   "source": [
    "### Bar Chart of Top Categories\n",
    "\n",
    "With this data available, let us now build a barchart of the top 20 categories. \n",
    "\n",
    "**HINT**: don't forget about the matplotlib magic!\n",
    "\n",
    "```\n",
    "%matplot plt\n",
    "```\n",
    "\n",
    "If you want, you can also use seaborn library"
   ]
  },
  {
   "cell_type": "code",
   "execution_count": 14,
   "id": "23763b8c",
   "metadata": {},
   "outputs": [
    {
     "data": {
      "application/vnd.jupyter.widget-view+json": {
       "model_id": "87fe94efc07844be9c9660b4240b69b8",
       "version_major": 2,
       "version_minor": 0
      },
      "text/plain": [
       "VBox()"
      ]
     },
     "metadata": {},
     "output_type": "display_data"
    },
    {
     "data": {
      "application/vnd.jupyter.widget-view+json": {
       "model_id": "",
       "version_major": 2,
       "version_minor": 0
      },
      "text/plain": [
       "FloatProgress(value=0.0, bar_style='info', description='Progress:', layout=Layout(height='25px', width='50%'),…"
      ]
     },
     "metadata": {},
     "output_type": "display_data"
    },
    {
     "name": "stdout",
     "output_type": "stream",
     "text": [
      "+--------------------+-----+\n",
      "|            category|count|\n",
      "+--------------------+-----+\n",
      "|         Restaurants|52268|\n",
      "|                Food|27781|\n",
      "|            Shopping|24395|\n",
      "|       Home Services|14356|\n",
      "|       Beauty & Spas|14292|\n",
      "|           Nightlife|12281|\n",
      "|    Health & Medical|11890|\n",
      "|      Local Services|11198|\n",
      "|                Bars|11065|\n",
      "|          Automotive|10773|\n",
      "|Event Planning & ...| 9895|\n",
      "|          Sandwiches| 8366|\n",
      "|American (Traditi...| 8139|\n",
      "|         Active Life| 7687|\n",
      "|               Pizza| 7093|\n",
      "|        Coffee & Tea| 6703|\n",
      "|           Fast Food| 6472|\n",
      "|  Breakfast & Brunch| 6239|\n",
      "|      American (New)| 6097|\n",
      "|     Hotels & Travel| 5857|\n",
      "+--------------------+-----+\n",
      "only showing top 20 rows"
     ]
    }
   ],
   "source": [
    "count_per_category = business_categories_exploded.select(\"category\") \\\n",
    "    .groupBy(\"category\") \\\n",
    "    .count() \\\n",
    "    .sort(col(\"count\").desc())\n",
    "count_per_category.show(20)"
   ]
  },
  {
   "cell_type": "code",
   "execution_count": 15,
   "id": "f0b52e94",
   "metadata": {},
   "outputs": [
    {
     "data": {
      "application/vnd.jupyter.widget-view+json": {
       "model_id": "87fbc0cffe7c45ae90fe8b5d78de74e0",
       "version_major": 2,
       "version_minor": 0
      },
      "text/plain": [
       "VBox()"
      ]
     },
     "metadata": {},
     "output_type": "display_data"
    },
    {
     "data": {
      "application/vnd.jupyter.widget-view+json": {
       "model_id": "",
       "version_major": 2,
       "version_minor": 0
      },
      "text/plain": [
       "FloatProgress(value=0.0, bar_style='info', description='Progress:', layout=Layout(height='25px', width='50%'),…"
      ]
     },
     "metadata": {},
     "output_type": "display_data"
    }
   ],
   "source": [
    "grouped_categories = business_categories_exploded.groupby('category')"
   ]
  },
  {
   "cell_type": "code",
   "execution_count": 16,
   "id": "3924f4a9",
   "metadata": {},
   "outputs": [
    {
     "data": {
      "application/vnd.jupyter.widget-view+json": {
       "model_id": "ed1bb31d1a2543c1ace155907f24e4d1",
       "version_major": 2,
       "version_minor": 0
      },
      "text/plain": [
       "VBox()"
      ]
     },
     "metadata": {},
     "output_type": "display_data"
    },
    {
     "data": {
      "application/vnd.jupyter.widget-view+json": {
       "model_id": "",
       "version_major": 2,
       "version_minor": 0
      },
      "text/plain": [
       "FloatProgress(value=0.0, bar_style='info', description='Progress:', layout=Layout(height='25px', width='50%'),…"
      ]
     },
     "metadata": {},
     "output_type": "display_data"
    },
    {
     "name": "stdout",
     "output_type": "stream",
     "text": [
      "                 category  count\n",
      "0             Restaurants  52268\n",
      "1                    Food  27781\n",
      "2                Shopping  24395\n",
      "3           Home Services  14356\n",
      "4           Beauty & Spas  14292\n",
      "...                   ...    ...\n",
      "1306             Tonkatsu      1\n",
      "1307  Ceremonial Clothing      1\n",
      "1308         Parent Cafes      1\n",
      "1309                Roman      1\n",
      "1310            Calabrian      1\n",
      "\n",
      "[1311 rows x 2 columns]"
     ]
    }
   ],
   "source": [
    "pdf = grouped_categories.count().orderBy(\"count\", ascending=False).toPandas()\n",
    "pdf"
   ]
  },
  {
   "cell_type": "code",
   "execution_count": 17,
   "id": "dfc66e2e",
   "metadata": {},
   "outputs": [
    {
     "data": {
      "application/vnd.jupyter.widget-view+json": {
       "model_id": "be6d74a4576e4dd6a25a4321f68a4502",
       "version_major": 2,
       "version_minor": 0
      },
      "text/plain": [
       "VBox()"
      ]
     },
     "metadata": {},
     "output_type": "display_data"
    },
    {
     "data": {
      "application/vnd.jupyter.widget-view+json": {
       "model_id": "",
       "version_major": 2,
       "version_minor": 0
      },
      "text/plain": [
       "FloatProgress(value=0.0, bar_style='info', description='Progress:', layout=Layout(height='25px', width='50%'),…"
      ]
     },
     "metadata": {},
     "output_type": "display_data"
    },
    {
     "data": {
      "image/png": "[encoded data removed]",
      "text/plain": [
       "<IPython.core.display.Image object>"
      ]
     },
     "metadata": {},
     "output_type": "display_data"
    }
   ],
   "source": [
    "plt.figure(figsize=(10,6))\n",
    "pdf[:20].plot(kind=\"bar\", x=\"category\", figsize=(10,6))\n",
    "%matplot plt"
   ]
  },
  {
   "cell_type": "markdown",
   "id": "92ae5f22",
   "metadata": {},
   "source": [
    "## Loading User Data\n",
    "\n",
    "Begin by loading the user data set from S3 and printing schema to determine what data is available. `s3://cis9760-yelpdataset/yelp-light/*review.json`"
   ]
  },
  {
   "cell_type": "code",
   "execution_count": 18,
   "id": "d148683a",
   "metadata": {},
   "outputs": [
    {
     "data": {
      "application/vnd.jupyter.widget-view+json": {
       "model_id": "6877735e6bdd45a4870ea3770bbb23ea",
       "version_major": 2,
       "version_minor": 0
      },
      "text/plain": [
       "VBox()"
      ]
     },
     "metadata": {},
     "output_type": "display_data"
    },
    {
     "data": {
      "application/vnd.jupyter.widget-view+json": {
       "model_id": "",
       "version_major": 2,
       "version_minor": 0
      },
      "text/plain": [
       "FloatProgress(value=0.0, bar_style='info', description='Progress:', layout=Layout(height='25px', width='50%'),…"
      ]
     },
     "metadata": {},
     "output_type": "display_data"
    }
   ],
   "source": [
    "# I have already uploaded all of the Yelp JSON files at the beginning of this notebook. "
   ]
  },
  {
   "cell_type": "code",
   "execution_count": 19,
   "id": "6afc1ca4",
   "metadata": {},
   "outputs": [
    {
     "data": {
      "application/vnd.jupyter.widget-view+json": {
       "model_id": "2c5fdc380f02406a82554a546368bac7",
       "version_major": 2,
       "version_minor": 0
      },
      "text/plain": [
       "VBox()"
      ]
     },
     "metadata": {},
     "output_type": "display_data"
    },
    {
     "data": {
      "application/vnd.jupyter.widget-view+json": {
       "model_id": "",
       "version_major": 2,
       "version_minor": 0
      },
      "text/plain": [
       "FloatProgress(value=0.0, bar_style='info', description='Progress:', layout=Layout(height='25px', width='50%'),…"
      ]
     },
     "metadata": {},
     "output_type": "display_data"
    },
    {
     "name": "stdout",
     "output_type": "stream",
     "text": [
      "root\n",
      " |-- business_id: string (nullable = true)\n",
      " |-- cool: long (nullable = true)\n",
      " |-- date: string (nullable = true)\n",
      " |-- funny: long (nullable = true)\n",
      " |-- review_id: string (nullable = true)\n",
      " |-- stars: double (nullable = true)\n",
      " |-- text: string (nullable = true)\n",
      " |-- useful: long (nullable = true)\n",
      " |-- user_id: string (nullable = true)"
     ]
    }
   ],
   "source": [
    "review.printSchema()"
   ]
  },
  {
   "cell_type": "markdown",
   "id": "452fa31b",
   "metadata": {},
   "source": [
    "Let's begin by listing the `business_id` and `stars` columns together for the user reviews data."
   ]
  },
  {
   "cell_type": "code",
   "execution_count": 20,
   "id": "2b512291",
   "metadata": {},
   "outputs": [
    {
     "data": {
      "application/vnd.jupyter.widget-view+json": {
       "model_id": "0bc07872ba004a85b22a4c3bdcf18a35",
       "version_major": 2,
       "version_minor": 0
      },
      "text/plain": [
       "VBox()"
      ]
     },
     "metadata": {},
     "output_type": "display_data"
    },
    {
     "data": {
      "application/vnd.jupyter.widget-view+json": {
       "model_id": "",
       "version_major": 2,
       "version_minor": 0
      },
      "text/plain": [
       "FloatProgress(value=0.0, bar_style='info', description='Progress:', layout=Layout(height='25px', width='50%'),…"
      ]
     },
     "metadata": {},
     "output_type": "display_data"
    }
   ],
   "source": [
    "cleaned_review = review.select(\"business_id\", \"stars\", \"user_id\") \\\n",
    "    .filter(review.business_id.isNotNull() & review.stars.isNotNull() & review.user_id.isNotNull()) \\\n",
    "    .withColumn(\"review_stars\", col(\"stars\"))"
   ]
  },
  {
   "cell_type": "code",
   "execution_count": 21,
   "id": "a13cda2a",
   "metadata": {},
   "outputs": [
    {
     "data": {
      "application/vnd.jupyter.widget-view+json": {
       "model_id": "05b646a8da7c48c78cb603be455a0ca8",
       "version_major": 2,
       "version_minor": 0
      },
      "text/plain": [
       "VBox()"
      ]
     },
     "metadata": {},
     "output_type": "display_data"
    },
    {
     "data": {
      "application/vnd.jupyter.widget-view+json": {
       "model_id": "",
       "version_major": 2,
       "version_minor": 0
      },
      "text/plain": [
       "FloatProgress(value=0.0, bar_style='info', description='Progress:', layout=Layout(height='25px', width='50%'),…"
      ]
     },
     "metadata": {},
     "output_type": "display_data"
    },
    {
     "name": "stdout",
     "output_type": "stream",
     "text": [
      "-RECORD 0----------------------------\n",
      " business_id  | XQfwVwDr-v0ZS3_Cb... \n",
      " stars        | 3.0                  \n",
      " user_id      | mh_-eMZ6K5RLWhZyI... \n",
      " review_stars | 3.0                  \n",
      "only showing top 1 row"
     ]
    }
   ],
   "source": [
    "cleaned_review.show(1, vertical=True)"
   ]
  },
  {
   "cell_type": "code",
   "execution_count": 22,
   "id": "14914fc9",
   "metadata": {},
   "outputs": [
    {
     "data": {
      "application/vnd.jupyter.widget-view+json": {
       "model_id": "390f811fcf024a6e867b9aa957d884b8",
       "version_major": 2,
       "version_minor": 0
      },
      "text/plain": [
       "VBox()"
      ]
     },
     "metadata": {},
     "output_type": "display_data"
    },
    {
     "data": {
      "application/vnd.jupyter.widget-view+json": {
       "model_id": "",
       "version_major": 2,
       "version_minor": 0
      },
      "text/plain": [
       "FloatProgress(value=0.0, bar_style='info', description='Progress:', layout=Layout(height='25px', width='50%'),…"
      ]
     },
     "metadata": {},
     "output_type": "display_data"
    },
    {
     "name": "stdout",
     "output_type": "stream",
     "text": [
      "+----------------------+-----+\n",
      "|business_id           |stars|\n",
      "+----------------------+-----+\n",
      "|XQfwVwDr-v0ZS3_CbbE5Xw|3.0  |\n",
      "|7ATYjTIgM3jUlt4UM3IypQ|5.0  |\n",
      "|YjUWPpI6HXG530lwP-fb2A|3.0  |\n",
      "|kxX2SOes4o-D3ZQBkiMRfA|5.0  |\n",
      "|e4Vwtrqf-wpJfwesgvdgxQ|4.0  |\n",
      "+----------------------+-----+\n",
      "only showing top 5 rows"
     ]
    }
   ],
   "source": [
    "cleaned_review.select(\"business_id\", \"stars\").show(5, truncate=False)"
   ]
  },
  {
   "cell_type": "markdown",
   "id": "dc41a14e",
   "metadata": {},
   "source": [
    "Now, let's aggregate along the `stars` column to get a resultant dataframe that displays _average stars_ per business as accumulated by users who **took the time to submit a written review**."
   ]
  },
  {
   "cell_type": "code",
   "execution_count": 23,
   "id": "74b07a7c",
   "metadata": {},
   "outputs": [
    {
     "data": {
      "application/vnd.jupyter.widget-view+json": {
       "model_id": "96a6539d8a934decb27a75a86a5d519d",
       "version_major": 2,
       "version_minor": 0
      },
      "text/plain": [
       "VBox()"
      ]
     },
     "metadata": {},
     "output_type": "display_data"
    },
    {
     "data": {
      "application/vnd.jupyter.widget-view+json": {
       "model_id": "",
       "version_major": 2,
       "version_minor": 0
      },
      "text/plain": [
       "FloatProgress(value=0.0, bar_style='info', description='Progress:', layout=Layout(height='25px', width='50%'),…"
      ]
     },
     "metadata": {},
     "output_type": "display_data"
    },
    {
     "name": "stdout",
     "output_type": "stream",
     "text": [
      "+----------------------+------------------+\n",
      "|business_id           |avg(stars)        |\n",
      "+----------------------+------------------+\n",
      "|zJErbOQMKX-MwHs_ulV7DA|2.9279279279279278|\n",
      "|RZ-FNTXvqHKngyLGDM-c7w|2.8823529411764706|\n",
      "|HSzSGdcNaU7heQe0NJibIg|3.3333333333333335|\n",
      "|skW4boArIApRw9DXKXukkA|2.3947368421052633|\n",
      "|I0053JmJ5DEFUWSJ8pikhA|2.3956043956043955|\n",
      "+----------------------+------------------+\n",
      "only showing top 5 rows"
     ]
    }
   ],
   "source": [
    "new_review = cleaned_review.withColumn(\"stars\", col(\"stars\").cast(\"Integer\")) \\\n",
    "    .filter(length(col(\"text\")) > 0) \\\n",
    "    .groupBy(\"business_id\") \\\n",
    "    .agg(mean(\"stars\").alias(\"avg(stars)\"))\n",
    "new_review.show(5, truncate=False)"
   ]
  },
  {
   "cell_type": "markdown",
   "id": "b9d9d81b",
   "metadata": {},
   "source": [
    "Now the fun part - let's join our two dataframes (reviews and business data) by `business_id`. "
   ]
  },
  {
   "cell_type": "code",
   "execution_count": 24,
   "id": "0905251e",
   "metadata": {},
   "outputs": [
    {
     "data": {
      "application/vnd.jupyter.widget-view+json": {
       "model_id": "7605b68e9a3d47df9c71f13631a14a25",
       "version_major": 2,
       "version_minor": 0
      },
      "text/plain": [
       "VBox()"
      ]
     },
     "metadata": {},
     "output_type": "display_data"
    },
    {
     "data": {
      "application/vnd.jupyter.widget-view+json": {
       "model_id": "",
       "version_major": 2,
       "version_minor": 0
      },
      "text/plain": [
       "FloatProgress(value=0.0, bar_style='info', description='Progress:', layout=Layout(height='25px', width='50%'),…"
      ]
     },
     "metadata": {},
     "output_type": "display_data"
    }
   ],
   "source": [
    "business_review = new_review.join(cleaned_business, \"business_id\")"
   ]
  },
  {
   "cell_type": "code",
   "execution_count": 25,
   "id": "413aab68",
   "metadata": {},
   "outputs": [
    {
     "data": {
      "application/vnd.jupyter.widget-view+json": {
       "model_id": "b2202a9055dc4223856d639dbe2af534",
       "version_major": 2,
       "version_minor": 0
      },
      "text/plain": [
       "VBox()"
      ]
     },
     "metadata": {},
     "output_type": "display_data"
    },
    {
     "data": {
      "application/vnd.jupyter.widget-view+json": {
       "model_id": "",
       "version_major": 2,
       "version_minor": 0
      },
      "text/plain": [
       "FloatProgress(value=0.0, bar_style='info', description='Progress:', layout=Layout(height='25px', width='50%'),…"
      ]
     },
     "metadata": {},
     "output_type": "display_data"
    },
    {
     "name": "stdout",
     "output_type": "stream",
     "text": [
      "-RECORD 0------------------------------\n",
      " business_id    | --gJkxbsiSIwsQKbi... \n",
      " avg(stars)     | 4.833333333333333    \n",
      " address        | 4545 W Kennedy Blvd  \n",
      " attributes     | [,,,,,,, True, Fa... \n",
      " categories     | Skin Care, Hair S... \n",
      " city           | Tampa                \n",
      " hours          | [8:0-20:0, 8:0-20... \n",
      " is_open        | 1                    \n",
      " latitude       | 27.9451223           \n",
      " longitude      | -82.5210814          \n",
      " name           | Salon Lofts - Wes... \n",
      " postal_code    | 33609                \n",
      " review_count   | 6                    \n",
      " stars          | 5.0                  \n",
      " state          | FL                   \n",
      " business_stars | 5.0                  \n",
      "only showing top 1 row"
     ]
    }
   ],
   "source": [
    "business_review.show(1,vertical=True)"
   ]
  },
  {
   "cell_type": "markdown",
   "id": "6e6f4f13",
   "metadata": {},
   "source": [
    "Let's see a few of these:"
   ]
  },
  {
   "cell_type": "code",
   "execution_count": 26,
   "id": "6b6f6326",
   "metadata": {},
   "outputs": [
    {
     "data": {
      "application/vnd.jupyter.widget-view+json": {
       "model_id": "bf2d9dd8499c4971a820b10aa6c34b18",
       "version_major": 2,
       "version_minor": 0
      },
      "text/plain": [
       "VBox()"
      ]
     },
     "metadata": {},
     "output_type": "display_data"
    },
    {
     "data": {
      "application/vnd.jupyter.widget-view+json": {
       "model_id": "",
       "version_major": 2,
       "version_minor": 0
      },
      "text/plain": [
       "FloatProgress(value=0.0, bar_style='info', description='Progress:', layout=Layout(height='25px', width='50%'),…"
      ]
     },
     "metadata": {},
     "output_type": "display_data"
    },
    {
     "name": "stdout",
     "output_type": "stream",
     "text": [
      "+------------------------------+------------+-----+------------------+-----+\n",
      "|name                          |city        |state|avg(stars)        |stars|\n",
      "+------------------------------+------------+-----+------------------+-----+\n",
      "|Philadelphia Marriott Old City|Philadelphia|PA   |2.9279279279279278|3.0  |\n",
      "|Gaetano's of West Berlin      |West Berlin |NJ   |2.8823529411764706|3.0  |\n",
      "|Gillane's Bar & Grille        |Ardmore     |PA   |3.3333333333333335|3.0  |\n",
      "|Champps Penn's Landing        |Philadelphia|PA   |2.3947368421052633|2.5  |\n",
      "|Golden Corral Buffet & Grill  |Tucson      |AZ   |2.3956043956043955|2.5  |\n",
      "+------------------------------+------------+-----+------------------+-----+\n",
      "only showing top 5 rows"
     ]
    }
   ],
   "source": [
    "business_review.select(\"name\", \"city\", \"state\", \"avg(stars)\", \"stars\").show(5, truncate=False)"
   ]
  },
  {
   "cell_type": "markdown",
   "id": "765bcea0",
   "metadata": {},
   "source": [
    "Compute a new dataframe that calculates what we will call the _skew_ (for lack of a better word) between the avg stars accumulated from written reviews and the _actual_ star rating of a business (ie: the average of stars given by reviewers who wrote an actual review **and** reviewers who just provided a star rating).\n",
    "\n",
    "The formula you can use is something like:\n",
    "\n",
    "```\n",
    "(row['avg(stars)'] - row['stars']) / row['stars']\n",
    "```\n",
    "\n",
    "If the **skew** is negative, we can interpret that to be: reviewers who left a written response were more dissatisfied than normal. If **skew** is positive, we can interpret that to be: reviewers who left a written response were more satisfied than normal."
   ]
  },
  {
   "cell_type": "code",
   "execution_count": 27,
   "id": "652b2fbe",
   "metadata": {},
   "outputs": [
    {
     "data": {
      "application/vnd.jupyter.widget-view+json": {
       "model_id": "c70f2c765ec842938e31a730722e4370",
       "version_major": 2,
       "version_minor": 0
      },
      "text/plain": [
       "VBox()"
      ]
     },
     "metadata": {},
     "output_type": "display_data"
    },
    {
     "data": {
      "application/vnd.jupyter.widget-view+json": {
       "model_id": "",
       "version_major": 2,
       "version_minor": 0
      },
      "text/plain": [
       "FloatProgress(value=0.0, bar_style='info', description='Progress:', layout=Layout(height='25px', width='50%'),…"
      ]
     },
     "metadata": {},
     "output_type": "display_data"
    }
   ],
   "source": [
    "business_review_skew = business_review \\\n",
    "    .withColumn(\"skew\", (col(\"avg(stars)\") - col(\"stars\"))/col(\"stars\"))"
   ]
  },
  {
   "cell_type": "code",
   "execution_count": 28,
   "id": "2ffb37c3",
   "metadata": {},
   "outputs": [
    {
     "data": {
      "application/vnd.jupyter.widget-view+json": {
       "model_id": "d7fb6a0ac7f942cea6cb3f5e2e39901b",
       "version_major": 2,
       "version_minor": 0
      },
      "text/plain": [
       "VBox()"
      ]
     },
     "metadata": {},
     "output_type": "display_data"
    },
    {
     "data": {
      "application/vnd.jupyter.widget-view+json": {
       "model_id": "",
       "version_major": 2,
       "version_minor": 0
      },
      "text/plain": [
       "FloatProgress(value=0.0, bar_style='info', description='Progress:', layout=Layout(height='25px', width='50%'),…"
      ]
     },
     "metadata": {},
     "output_type": "display_data"
    },
    {
     "name": "stdout",
     "output_type": "stream",
     "text": [
      "+------------------------------+------------+-----+------------------+-----+---------------------+\n",
      "|name                          |city        |state|avg(stars)        |stars|skew                 |\n",
      "+------------------------------+------------+-----+------------------+-----+---------------------+\n",
      "|Gillane's Bar & Grille        |Ardmore     |PA   |3.3333333333333335|3.0  |0.11111111111111116  |\n",
      "|Champps Penn's Landing        |Philadelphia|PA   |2.3947368421052633|2.5  |-0.04210526315789469 |\n",
      "|Philadelphia Marriott Old City|Philadelphia|PA   |2.9279279279279278|3.0  |-0.024024024024024076|\n",
      "|Golden Corral Buffet & Grill  |Tucson      |AZ   |2.3956043956043955|2.5  |-0.04175824175824179 |\n",
      "|Swiss Watch Center            |Tampa       |FL   |3.357142857142857 |3.5  |-0.04081632653061223 |\n",
      "+------------------------------+------------+-----+------------------+-----+---------------------+\n",
      "only showing top 5 rows"
     ]
    }
   ],
   "source": [
    "business_review_skew.select(\"name\", \"city\", \"state\", \"avg(stars)\", \"stars\", \"skew\").show(5, truncate=False)"
   ]
  },
  {
   "cell_type": "markdown",
   "id": "a3079e27",
   "metadata": {},
   "source": [
    "And finally, graph it!"
   ]
  },
  {
   "cell_type": "code",
   "execution_count": 29,
   "id": "87d2d6c5",
   "metadata": {},
   "outputs": [
    {
     "data": {
      "application/vnd.jupyter.widget-view+json": {
       "model_id": "02e3d9b624394209a8972022a3f92cd2",
       "version_major": 2,
       "version_minor": 0
      },
      "text/plain": [
       "VBox()"
      ]
     },
     "metadata": {},
     "output_type": "display_data"
    },
    {
     "data": {
      "application/vnd.jupyter.widget-view+json": {
       "model_id": "",
       "version_major": 2,
       "version_minor": 0
      },
      "text/plain": [
       "FloatProgress(value=0.0, bar_style='info', description='Progress:', layout=Layout(height='25px', width='50%'),…"
      ]
     },
     "metadata": {},
     "output_type": "display_data"
    }
   ],
   "source": [
    "skew_pdf = business_review_skew.toPandas()"
   ]
  },
  {
   "cell_type": "code",
   "execution_count": 30,
   "id": "3744bcb4",
   "metadata": {},
   "outputs": [
    {
     "data": {
      "application/vnd.jupyter.widget-view+json": {
       "model_id": "fe2d476ef7a848f09fee99533c38d7ab",
       "version_major": 2,
       "version_minor": 0
      },
      "text/plain": [
       "VBox()"
      ]
     },
     "metadata": {},
     "output_type": "display_data"
    },
    {
     "data": {
      "application/vnd.jupyter.widget-view+json": {
       "model_id": "",
       "version_major": 2,
       "version_minor": 0
      },
      "text/plain": [
       "FloatProgress(value=0.0, bar_style='info', description='Progress:', layout=Layout(height='25px', width='50%'),…"
      ]
     },
     "metadata": {},
     "output_type": "display_data"
    },
    {
     "data": {
      "image/png": "[encoded data removed]",
      "text/plain": [
       "<IPython.core.display.Image object>"
      ]
     },
     "metadata": {},
     "output_type": "display_data"
    }
   ],
   "source": [
    "plt.figure(figsize=(10,6))\n",
    "plt.title(\"Yelp Review Skew\")\n",
    "sns.distplot(skew_pdf['skew'], axlabel=\"Skew\")\n",
    "%matplot plt"
   ]
  },
  {
   "cell_type": "markdown",
   "id": "4d4e14f4",
   "metadata": {},
   "source": [
    "So, do Yelp (written) Reviews skew negative? Does this analysis actually prove anything? Expound on implications / interpretations of this graph. "
   ]
  },
  {
   "cell_type": "markdown",
   "id": "79ee4874",
   "metadata": {},
   "source": [
    "### IMPLICATIONS"
   ]
  },
  {
   "cell_type": "markdown",
   "id": "9c0ad9fb",
   "metadata": {},
   "source": [
    "Type your answer here: It appears that there are more reviews with negative skew than positive skew which indicates there are more dissatisfied reviewers who left written reviews. However, the skew is not massive so perhaps these reviewers were not extremely dissatisfied. This graph provides a little bit of insight on how reviewers felt. However, seeing as how these written reviews are text comments it might prove useful to do some sentiment analysis via NLP techniques. "
   ]
  },
  {
   "cell_type": "markdown",
   "id": "c7c74345",
   "metadata": {},
   "source": [
    "# Should the Elite be Trusted?"
   ]
  },
  {
   "cell_type": "markdown",
   "id": "ed348510",
   "metadata": {},
   "source": [
    "How accurate or close are the ratings of an \"elite\" user (check Users table schema) vs the actual business rating? `s3://cis9760-yelpdataset/yelp-light/*user.json`\n",
    "\n",
    "Feel free to use any and all methodologies at your disposal. \n",
    "You must render one visualization in your analysis and interpret your findings."
   ]
  },
  {
   "cell_type": "code",
   "execution_count": 31,
   "id": "53bd66f4",
   "metadata": {},
   "outputs": [
    {
     "data": {
      "application/vnd.jupyter.widget-view+json": {
       "model_id": "d5875f6d37364cd6af921db2df5e68e6",
       "version_major": 2,
       "version_minor": 0
      },
      "text/plain": [
       "VBox()"
      ]
     },
     "metadata": {},
     "output_type": "display_data"
    },
    {
     "data": {
      "application/vnd.jupyter.widget-view+json": {
       "model_id": "",
       "version_major": 2,
       "version_minor": 0
      },
      "text/plain": [
       "FloatProgress(value=0.0, bar_style='info', description='Progress:', layout=Layout(height='25px', width='50%'),…"
      ]
     },
     "metadata": {},
     "output_type": "display_data"
    },
    {
     "name": "stdout",
     "output_type": "stream",
     "text": [
      "root\n",
      " |-- average_stars: double (nullable = true)\n",
      " |-- compliment_cool: long (nullable = true)\n",
      " |-- compliment_cute: long (nullable = true)\n",
      " |-- compliment_funny: long (nullable = true)\n",
      " |-- compliment_hot: long (nullable = true)\n",
      " |-- compliment_list: long (nullable = true)\n",
      " |-- compliment_more: long (nullable = true)\n",
      " |-- compliment_note: long (nullable = true)\n",
      " |-- compliment_photos: long (nullable = true)\n",
      " |-- compliment_plain: long (nullable = true)\n",
      " |-- compliment_profile: long (nullable = true)\n",
      " |-- compliment_writer: long (nullable = true)\n",
      " |-- cool: long (nullable = true)\n",
      " |-- elite: string (nullable = true)\n",
      " |-- fans: long (nullable = true)\n",
      " |-- friends: string (nullable = true)\n",
      " |-- funny: long (nullable = true)\n",
      " |-- name: string (nullable = true)\n",
      " |-- review_count: long (nullable = true)\n",
      " |-- useful: long (nullable = true)\n",
      " |-- user_id: string (nullable = true)\n",
      " |-- yelping_since: string (nullable = true)"
     ]
    }
   ],
   "source": [
    "user.printSchema()"
   ]
  },
  {
   "cell_type": "code",
   "execution_count": 32,
   "id": "b36d2c2d",
   "metadata": {},
   "outputs": [
    {
     "data": {
      "application/vnd.jupyter.widget-view+json": {
       "model_id": "5d9cdff8c9a247368da72d8bf2b32437",
       "version_major": 2,
       "version_minor": 0
      },
      "text/plain": [
       "VBox()"
      ]
     },
     "metadata": {},
     "output_type": "display_data"
    },
    {
     "data": {
      "application/vnd.jupyter.widget-view+json": {
       "model_id": "",
       "version_major": 2,
       "version_minor": 0
      },
      "text/plain": [
       "FloatProgress(value=0.0, bar_style='info', description='Progress:', layout=Layout(height='25px', width='50%'),…"
      ]
     },
     "metadata": {},
     "output_type": "display_data"
    },
    {
     "name": "stdout",
     "output_type": "stream",
     "text": [
      "-RECORD 0----------------------------------\n",
      " average_stars      | 3.91                 \n",
      " compliment_cool    | 467                  \n",
      " compliment_cute    | 56                   \n",
      " compliment_funny   | 467                  \n",
      " compliment_hot     | 250                  \n",
      " compliment_list    | 18                   \n",
      " compliment_more    | 65                   \n",
      " compliment_note    | 232                  \n",
      " compliment_photos  | 180                  \n",
      " compliment_plain   | 844                  \n",
      " compliment_profile | 55                   \n",
      " compliment_writer  | 239                  \n",
      " cool               | 5994                 \n",
      " elite              | 2007                 \n",
      " fans               | 267                  \n",
      " friends            | NSCy54eWehBJyZdG2... \n",
      " funny              | 1259                 \n",
      " name               | Walker               \n",
      " review_count       | 585                  \n",
      " useful             | 7217                 \n",
      " user_id            | qVc8ODYU5SZjKXVBg... \n",
      " yelping_since      | 2007-01-25 16:47:26  \n",
      "only showing top 1 row"
     ]
    }
   ],
   "source": [
    "user.show(1, vertical=True)"
   ]
  },
  {
   "cell_type": "code",
   "execution_count": 33,
   "id": "e95f2be8",
   "metadata": {},
   "outputs": [
    {
     "data": {
      "application/vnd.jupyter.widget-view+json": {
       "model_id": "bd77b528ba0044c6a767fd07f786d696",
       "version_major": 2,
       "version_minor": 0
      },
      "text/plain": [
       "VBox()"
      ]
     },
     "metadata": {},
     "output_type": "display_data"
    },
    {
     "data": {
      "application/vnd.jupyter.widget-view+json": {
       "model_id": "",
       "version_major": 2,
       "version_minor": 0
      },
      "text/plain": [
       "FloatProgress(value=0.0, bar_style='info', description='Progress:', layout=Layout(height='25px', width='50%'),…"
      ]
     },
     "metadata": {},
     "output_type": "display_data"
    },
    {
     "name": "stdout",
     "output_type": "stream",
     "text": [
      "Number of columns in the User table: 22\n",
      "Number of rows in the Business table: 1987897"
     ]
    }
   ],
   "source": [
    "print(f\"Number of columns in the User table: {len(user.columns)}\", f\"Number of rows in the Business table: {user.count()}\", sep='\\n')"
   ]
  },
  {
   "cell_type": "code",
   "execution_count": 34,
   "id": "ffa00362",
   "metadata": {},
   "outputs": [
    {
     "data": {
      "application/vnd.jupyter.widget-view+json": {
       "model_id": "13ce2f05fccd43bca35ede85fb582f7d",
       "version_major": 2,
       "version_minor": 0
      },
      "text/plain": [
       "VBox()"
      ]
     },
     "metadata": {},
     "output_type": "display_data"
    },
    {
     "data": {
      "application/vnd.jupyter.widget-view+json": {
       "model_id": "",
       "version_major": 2,
       "version_minor": 0
      },
      "text/plain": [
       "FloatProgress(value=0.0, bar_style='info', description='Progress:', layout=Layout(height='25px', width='50%'),…"
      ]
     },
     "metadata": {},
     "output_type": "display_data"
    }
   ],
   "source": [
    "elite_users = user.filter(length(col(\"elite\")) > 0)"
   ]
  },
  {
   "cell_type": "code",
   "execution_count": 35,
   "id": "8c8a49e0",
   "metadata": {},
   "outputs": [
    {
     "data": {
      "application/vnd.jupyter.widget-view+json": {
       "model_id": "b5db5f024b4647df87069c7a2d754341",
       "version_major": 2,
       "version_minor": 0
      },
      "text/plain": [
       "VBox()"
      ]
     },
     "metadata": {},
     "output_type": "display_data"
    },
    {
     "data": {
      "application/vnd.jupyter.widget-view+json": {
       "model_id": "",
       "version_major": 2,
       "version_minor": 0
      },
      "text/plain": [
       "FloatProgress(value=0.0, bar_style='info', description='Progress:', layout=Layout(height='25px', width='50%'),…"
      ]
     },
     "metadata": {},
     "output_type": "display_data"
    },
    {
     "name": "stdout",
     "output_type": "stream",
     "text": [
      "Number of columns in the User table: 22\n",
      "Number of rows in the Business table: 91198"
     ]
    }
   ],
   "source": [
    "print(f\"Number of columns in the User table: {len(elite_users.columns)}\", f\"Number of rows in the Business table: {elite_users.count()}\", sep='\\n')"
   ]
  },
  {
   "cell_type": "code",
   "execution_count": 36,
   "id": "f0429217",
   "metadata": {},
   "outputs": [
    {
     "data": {
      "application/vnd.jupyter.widget-view+json": {
       "model_id": "b12abca14ef2400f98da2e9606e2822e",
       "version_major": 2,
       "version_minor": 0
      },
      "text/plain": [
       "VBox()"
      ]
     },
     "metadata": {},
     "output_type": "display_data"
    },
    {
     "data": {
      "application/vnd.jupyter.widget-view+json": {
       "model_id": "",
       "version_major": 2,
       "version_minor": 0
      },
      "text/plain": [
       "FloatProgress(value=0.0, bar_style='info', description='Progress:', layout=Layout(height='25px', width='50%'),…"
      ]
     },
     "metadata": {},
     "output_type": "display_data"
    },
    {
     "name": "stdout",
     "output_type": "stream",
     "text": [
      "As we can see 4.59% of the users are elite users."
     ]
    }
   ],
   "source": [
    "print(f\"As we can see {round((elite_users.count()/user.count())*100,2)}% of the users are elite users.\")"
   ]
  },
  {
   "cell_type": "code",
   "execution_count": 37,
   "id": "b52d2a84",
   "metadata": {},
   "outputs": [
    {
     "data": {
      "application/vnd.jupyter.widget-view+json": {
       "model_id": "78770c8b526f4eaebdc5bfbcba5b1992",
       "version_major": 2,
       "version_minor": 0
      },
      "text/plain": [
       "VBox()"
      ]
     },
     "metadata": {},
     "output_type": "display_data"
    },
    {
     "data": {
      "application/vnd.jupyter.widget-view+json": {
       "model_id": "",
       "version_major": 2,
       "version_minor": 0
      },
      "text/plain": [
       "FloatProgress(value=0.0, bar_style='info', description='Progress:', layout=Layout(height='25px', width='50%'),…"
      ]
     },
     "metadata": {},
     "output_type": "display_data"
    }
   ],
   "source": [
    "business_review2 = cleaned_business.join(cleaned_review, \"business_id\")"
   ]
  },
  {
   "cell_type": "code",
   "execution_count": 38,
   "id": "0b875bff",
   "metadata": {},
   "outputs": [
    {
     "data": {
      "application/vnd.jupyter.widget-view+json": {
       "model_id": "18952426ed304acdafe3b9b5a1ec1b92",
       "version_major": 2,
       "version_minor": 0
      },
      "text/plain": [
       "VBox()"
      ]
     },
     "metadata": {},
     "output_type": "display_data"
    },
    {
     "data": {
      "application/vnd.jupyter.widget-view+json": {
       "model_id": "",
       "version_major": 2,
       "version_minor": 0
      },
      "text/plain": [
       "FloatProgress(value=0.0, bar_style='info', description='Progress:', layout=Layout(height='25px', width='50%'),…"
      ]
     },
     "metadata": {},
     "output_type": "display_data"
    },
    {
     "name": "stdout",
     "output_type": "stream",
     "text": [
      "+----------------------+-------------------+---------------------------------------------------------------------------------------------------------------------------------------------------------------+------------------------------------------------------------+-----+-----------------------------------------------------------------------+-------+----------+-----------+--------------------------+-----------+------------+-----+-----+--------------+-----+----------------------+------------+\n",
      "|business_id           |address            |attributes                                                                                                                                                     |categories                                                  |city |hours                                                                  |is_open|latitude  |longitude  |name                      |postal_code|review_count|stars|state|business_stars|stars|user_id               |review_stars|\n",
      "+----------------------+-------------------+---------------------------------------------------------------------------------------------------------------------------------------------------------------+------------------------------------------------------------+-----+-----------------------------------------------------------------------+-------+----------+-----------+--------------------------+-----------+------------+-----+-----+--------------+-----+----------------------+------------+\n",
      "|--gJkxbsiSIwsQKbiwm_Ng|4545 W Kennedy Blvd|[,,,,,,, True, False, True, {'garage': False, 'street': False, 'validated': False, 'lot': True, 'valet': False}, False,,,,,,,,,,,,,,,,,,,,,,,,,, True, u'free']|Skin Care, Hair Salons, Beauty & Spas, Day Spas, Nail Salons|Tampa|[8:0-20:0, 8:0-20:0, 8:0-20:0, 12:0-17:0, 8:0-20:0, 8:0-20:0, 8:0-20:0]|1      |27.9451223|-82.5210814|Salon Lofts - West Kennedy|33609      |6           |5.0  |FL   |5.0           |5.0  |L4q5nCwMaHhXCeSJzLBR8g|5.0         |\n",
      "|--gJkxbsiSIwsQKbiwm_Ng|4545 W Kennedy Blvd|[,,,,,,, True, False, True, {'garage': False, 'street': False, 'validated': False, 'lot': True, 'valet': False}, False,,,,,,,,,,,,,,,,,,,,,,,,,, True, u'free']|Skin Care, Hair Salons, Beauty & Spas, Day Spas, Nail Salons|Tampa|[8:0-20:0, 8:0-20:0, 8:0-20:0, 12:0-17:0, 8:0-20:0, 8:0-20:0, 8:0-20:0]|1      |27.9451223|-82.5210814|Salon Lofts - West Kennedy|33609      |6           |5.0  |FL   |5.0           |5.0  |XGmxkw2Zbunt5u2ZD96XjA|5.0         |\n",
      "|--gJkxbsiSIwsQKbiwm_Ng|4545 W Kennedy Blvd|[,,,,,,, True, False, True, {'garage': False, 'street': False, 'validated': False, 'lot': True, 'valet': False}, False,,,,,,,,,,,,,,,,,,,,,,,,,, True, u'free']|Skin Care, Hair Salons, Beauty & Spas, Day Spas, Nail Salons|Tampa|[8:0-20:0, 8:0-20:0, 8:0-20:0, 12:0-17:0, 8:0-20:0, 8:0-20:0, 8:0-20:0]|1      |27.9451223|-82.5210814|Salon Lofts - West Kennedy|33609      |6           |5.0  |FL   |5.0           |5.0  |8txdIkqyhrSxZ4RMYPnKNg|5.0         |\n",
      "|--gJkxbsiSIwsQKbiwm_Ng|4545 W Kennedy Blvd|[,,,,,,, True, False, True, {'garage': False, 'street': False, 'validated': False, 'lot': True, 'valet': False}, False,,,,,,,,,,,,,,,,,,,,,,,,,, True, u'free']|Skin Care, Hair Salons, Beauty & Spas, Day Spas, Nail Salons|Tampa|[8:0-20:0, 8:0-20:0, 8:0-20:0, 12:0-17:0, 8:0-20:0, 8:0-20:0, 8:0-20:0]|1      |27.9451223|-82.5210814|Salon Lofts - West Kennedy|33609      |6           |5.0  |FL   |5.0           |5.0  |TOmK6TTeQMfktNR__o_rLw|5.0         |\n",
      "|--gJkxbsiSIwsQKbiwm_Ng|4545 W Kennedy Blvd|[,,,,,,, True, False, True, {'garage': False, 'street': False, 'validated': False, 'lot': True, 'valet': False}, False,,,,,,,,,,,,,,,,,,,,,,,,,, True, u'free']|Skin Care, Hair Salons, Beauty & Spas, Day Spas, Nail Salons|Tampa|[8:0-20:0, 8:0-20:0, 8:0-20:0, 12:0-17:0, 8:0-20:0, 8:0-20:0, 8:0-20:0]|1      |27.9451223|-82.5210814|Salon Lofts - West Kennedy|33609      |6           |5.0  |FL   |5.0           |4.0  |fen9BWC39ul9SJZfQ-onpg|4.0         |\n",
      "+----------------------+-------------------+---------------------------------------------------------------------------------------------------------------------------------------------------------------+------------------------------------------------------------+-----+-----------------------------------------------------------------------+-------+----------+-----------+--------------------------+-----------+------------+-----+-----+--------------+-----+----------------------+------------+\n",
      "only showing top 5 rows"
     ]
    }
   ],
   "source": [
    "business_review2.show(5, truncate=False)"
   ]
  },
  {
   "cell_type": "code",
   "execution_count": 39,
   "id": "c7bf8ab6",
   "metadata": {},
   "outputs": [
    {
     "data": {
      "application/vnd.jupyter.widget-view+json": {
       "model_id": "d5f5e7edaa964a379098e4a802b94b3d",
       "version_major": 2,
       "version_minor": 0
      },
      "text/plain": [
       "VBox()"
      ]
     },
     "metadata": {},
     "output_type": "display_data"
    },
    {
     "data": {
      "application/vnd.jupyter.widget-view+json": {
       "model_id": "",
       "version_major": 2,
       "version_minor": 0
      },
      "text/plain": [
       "FloatProgress(value=0.0, bar_style='info', description='Progress:', layout=Layout(height='25px', width='50%'),…"
      ]
     },
     "metadata": {},
     "output_type": "display_data"
    },
    {
     "name": "stdout",
     "output_type": "stream",
     "text": [
      "+-----------+\n",
      "|max(useful)|\n",
      "+-----------+\n",
      "|     206296|\n",
      "+-----------+"
     ]
    }
   ],
   "source": [
    "elite_users.agg({'useful': 'max'}).show()"
   ]
  },
  {
   "cell_type": "code",
   "execution_count": 40,
   "id": "1ee26a8a",
   "metadata": {},
   "outputs": [
    {
     "data": {
      "application/vnd.jupyter.widget-view+json": {
       "model_id": "2c42f0299390415b8995a77764cbb1e0",
       "version_major": 2,
       "version_minor": 0
      },
      "text/plain": [
       "VBox()"
      ]
     },
     "metadata": {},
     "output_type": "display_data"
    },
    {
     "data": {
      "application/vnd.jupyter.widget-view+json": {
       "model_id": "",
       "version_major": 2,
       "version_minor": 0
      },
      "text/plain": [
       "FloatProgress(value=0.0, bar_style='info', description='Progress:', layout=Layout(height='25px', width='50%'),…"
      ]
     },
     "metadata": {},
     "output_type": "display_data"
    },
    {
     "name": "stdout",
     "output_type": "stream",
     "text": [
      "+-----------+\n",
      "|min(useful)|\n",
      "+-----------+\n",
      "|          0|\n",
      "+-----------+"
     ]
    }
   ],
   "source": [
    "elite_users.agg({'useful': 'min'}).show()"
   ]
  },
  {
   "cell_type": "code",
   "execution_count": 41,
   "id": "1b242c8f",
   "metadata": {},
   "outputs": [
    {
     "data": {
      "application/vnd.jupyter.widget-view+json": {
       "model_id": "d9df9df9d86c452aba2668df7c2fe199",
       "version_major": 2,
       "version_minor": 0
      },
      "text/plain": [
       "VBox()"
      ]
     },
     "metadata": {},
     "output_type": "display_data"
    },
    {
     "data": {
      "application/vnd.jupyter.widget-view+json": {
       "model_id": "",
       "version_major": 2,
       "version_minor": 0
      },
      "text/plain": [
       "FloatProgress(value=0.0, bar_style='info', description='Progress:', layout=Layout(height='25px', width='50%'),…"
      ]
     },
     "metadata": {},
     "output_type": "display_data"
    },
    {
     "name": "stdout",
     "output_type": "stream",
     "text": [
      "+-----------------+\n",
      "|      avg(useful)|\n",
      "+-----------------+\n",
      "|650.9082436018334|\n",
      "+-----------------+"
     ]
    }
   ],
   "source": [
    "elite_users.agg({'useful': 'avg'}).show()"
   ]
  },
  {
   "cell_type": "code",
   "execution_count": 42,
   "id": "9eff7345",
   "metadata": {},
   "outputs": [
    {
     "data": {
      "application/vnd.jupyter.widget-view+json": {
       "model_id": "bbdb6ec6c8e14e3c90b05b653cd24fc6",
       "version_major": 2,
       "version_minor": 0
      },
      "text/plain": [
       "VBox()"
      ]
     },
     "metadata": {},
     "output_type": "display_data"
    },
    {
     "data": {
      "application/vnd.jupyter.widget-view+json": {
       "model_id": "",
       "version_major": 2,
       "version_minor": 0
      },
      "text/plain": [
       "FloatProgress(value=0.0, bar_style='info', description='Progress:', layout=Layout(height='25px', width='50%'),…"
      ]
     },
     "metadata": {},
     "output_type": "display_data"
    }
   ],
   "source": [
    "business_review_elite_users = business_review2.join(elite_users, \"user_id\")"
   ]
  },
  {
   "cell_type": "code",
   "execution_count": 43,
   "id": "4830b8f6",
   "metadata": {},
   "outputs": [
    {
     "data": {
      "application/vnd.jupyter.widget-view+json": {
       "model_id": "3909ce5f5e504501923d2a561a26fee7",
       "version_major": 2,
       "version_minor": 0
      },
      "text/plain": [
       "VBox()"
      ]
     },
     "metadata": {},
     "output_type": "display_data"
    },
    {
     "data": {
      "application/vnd.jupyter.widget-view+json": {
       "model_id": "",
       "version_major": 2,
       "version_minor": 0
      },
      "text/plain": [
       "FloatProgress(value=0.0, bar_style='info', description='Progress:', layout=Layout(height='25px', width='50%'),…"
      ]
     },
     "metadata": {},
     "output_type": "display_data"
    },
    {
     "name": "stdout",
     "output_type": "stream",
     "text": [
      "+--------------------+--------------------+---------------+--------------------+--------------------+-----------+--------------------+-------+-------------+--------------+--------------------+-----------+------------+-----+-----+--------------+-----+------------+-------------+---------------+---------------+----------------+--------------+---------------+---------------+---------------+-----------------+----------------+------------------+-----------------+----+-------------------+----+--------------------+-----+----+------------+------+-------------------+\n",
      "|             user_id|         business_id|        address|          attributes|          categories|       city|               hours|is_open|     latitude|     longitude|                name|postal_code|review_count|stars|state|business_stars|stars|review_stars|average_stars|compliment_cool|compliment_cute|compliment_funny|compliment_hot|compliment_list|compliment_more|compliment_note|compliment_photos|compliment_plain|compliment_profile|compliment_writer|cool|              elite|fans|             friends|funny|name|review_count|useful|      yelping_since|\n",
      "+--------------------+--------------------+---------------+--------------------+--------------------+-----------+--------------------+-------+-------------+--------------+--------------------+-----------+------------+-----+-----+--------------+-----+------------+-------------+---------------+---------------+----------------+--------------+---------------+---------------+---------------+-----------------+----------------+------------------+-----------------+----+-------------------+----+--------------------+-----+----+------------+------+-------------------+\n",
      "|-GKEFg_92pp0q842c...|mhrW9O0O5hXGXGnEY...|    8324 Oak St|[,, 'full_bar', {...|Seafood, Cajun/Cr...|New Orleans|[17:0-22:0, 0:0-0...|      1|   29.9490417|   -90.1322295|  Jacques-Imo's Cafe|      70118|        2406|  4.5|   LA|           4.5|  4.0|         4.0|          3.9|              8|              0|               8|             4|              0|              3|              5|                1|              18|                 3|                7| 131|2012,2013,2014,2015|  18|TflIFP0O0vfcR7Vmt...|  191|Jeff|         314|   384|2011-07-18 20:16:27|\n",
      "|-GKEFg_92pp0q842c...|6Ty-KKWq6hLZYW8DW...|718 St Peter St|[,, u'full_bar', ...|American (Traditi...|New Orleans|[12:0-18:0,, 16:0...|      1|   29.9581828|   -90.0652974|       Pat O'Brien’s|      70116|        2367|  4.0|   LA|           4.0|  3.0|         3.0|          3.9|              8|              0|               8|             4|              0|              3|              5|                1|              18|                 3|                7| 131|2012,2013,2014,2015|  18|TflIFP0O0vfcR7Vmt...|  191|Jeff|         314|   384|2011-07-18 20:16:27|\n",
      "|-GKEFg_92pp0q842c...|ElO-UerL1Sg6KC2oq...|  18 Western Dr|[,,,,,,,,, True,,...|Event Planning & ...| Westampton|[0:0-0:0, 0:0-0:0...|      1|40.0323753637|-74.8177841835|Holiday Inn Expre...|      08060|          17|  2.0|   NJ|           2.0|  3.0|         3.0|          3.9|              8|              0|               8|             4|              0|              3|              5|                1|              18|                 3|                7| 131|2012,2013,2014,2015|  18|TflIFP0O0vfcR7Vmt...|  191|Jeff|         314|   384|2011-07-18 20:16:27|\n",
      "|-GKEFg_92pp0q842c...|j4kYliTkKf7k-oDqV...|  519 Fulton St|[,, 'full_bar', {...|Nightlife, Restau...|New Orleans|[17:0-22:0, 17:0-...|      1|   29.9473409|   -90.0655896|Manning's Sports ...|      70130|         774|  3.0|   LA|           3.0|  3.0|         3.0|          3.9|              8|              0|               8|             4|              0|              3|              5|                1|              18|                 3|                7| 131|2012,2013,2014,2015|  18|TflIFP0O0vfcR7Vmt...|  191|Jeff|         314|   384|2011-07-18 20:16:27|\n",
      "|-GKEFg_92pp0q842c...|cB_9eHHfo9me96cZu...|   931 Canal St|[,,,,,,,,, True,,...|Hotels, Venues & ...|New Orleans|[0:0-0:0, 0:0-0:0...|      1| 29.955076675|-90.0713922316|The Saint Hotel, ...|      70112|         316|  3.5|   LA|           3.5|  3.0|         3.0|          3.9|              8|              0|               8|             4|              0|              3|              5|                1|              18|                 3|                7| 131|2012,2013,2014,2015|  18|TflIFP0O0vfcR7Vmt...|  191|Jeff|         314|   384|2011-07-18 20:16:27|\n",
      "+--------------------+--------------------+---------------+--------------------+--------------------+-----------+--------------------+-------+-------------+--------------+--------------------+-----------+------------+-----+-----+--------------+-----+------------+-------------+---------------+---------------+----------------+--------------+---------------+---------------+---------------+-----------------+----------------+------------------+-----------------+----+-------------------+----+--------------------+-----+----+------------+------+-------------------+\n",
      "only showing top 5 rows"
     ]
    }
   ],
   "source": [
    "business_review_elite_users.show(5)"
   ]
  },
  {
   "cell_type": "code",
   "execution_count": 44,
   "id": "fb52b598",
   "metadata": {},
   "outputs": [
    {
     "data": {
      "application/vnd.jupyter.widget-view+json": {
       "model_id": "693193c9403147808125982c79adac53",
       "version_major": 2,
       "version_minor": 0
      },
      "text/plain": [
       "VBox()"
      ]
     },
     "metadata": {},
     "output_type": "display_data"
    },
    {
     "data": {
      "application/vnd.jupyter.widget-view+json": {
       "model_id": "",
       "version_major": 2,
       "version_minor": 0
      },
      "text/plain": [
       "FloatProgress(value=0.0, bar_style='info', description='Progress:', layout=Layout(height='25px', width='50%'),…"
      ]
     },
     "metadata": {},
     "output_type": "display_data"
    },
    {
     "name": "stdout",
     "output_type": "stream",
     "text": [
      "['user_id', 'business_id', 'address', 'attributes', 'categories', 'city', 'hours', 'is_open', 'latitude', 'longitude', 'name', 'postal_code', 'review_count', 'stars', 'state', 'business_stars', 'stars', 'review_stars', 'average_stars', 'compliment_cool', 'compliment_cute', 'compliment_funny', 'compliment_hot', 'compliment_list', 'compliment_more', 'compliment_note', 'compliment_photos', 'compliment_plain', 'compliment_profile', 'compliment_writer', 'cool', 'elite', 'fans', 'friends', 'funny', 'name', 'review_count', 'useful', 'yelping_since']"
     ]
    }
   ],
   "source": [
    "print(business_review_elite_users.columns)"
   ]
  },
  {
   "cell_type": "code",
   "execution_count": 45,
   "id": "fc22b8fd",
   "metadata": {},
   "outputs": [
    {
     "data": {
      "application/vnd.jupyter.widget-view+json": {
       "model_id": "de027aa2cd814778bf849e3fcd816df0",
       "version_major": 2,
       "version_minor": 0
      },
      "text/plain": [
       "VBox()"
      ]
     },
     "metadata": {},
     "output_type": "display_data"
    },
    {
     "data": {
      "application/vnd.jupyter.widget-view+json": {
       "model_id": "",
       "version_major": 2,
       "version_minor": 0
      },
      "text/plain": [
       "FloatProgress(value=0.0, bar_style='info', description='Progress:', layout=Layout(height='25px', width='50%'),…"
      ]
     },
     "metadata": {},
     "output_type": "display_data"
    }
   ],
   "source": [
    "business_review_elite_diff = business_review_elite_users \\\n",
    "    .withColumn(\"review_diff\", (col(\"business_stars\") - col(\"review_stars\")))"
   ]
  },
  {
   "cell_type": "code",
   "execution_count": 46,
   "id": "7b3ef144",
   "metadata": {},
   "outputs": [
    {
     "data": {
      "application/vnd.jupyter.widget-view+json": {
       "model_id": "bcd65eed1ee8410d882d31ac54200c06",
       "version_major": 2,
       "version_minor": 0
      },
      "text/plain": [
       "VBox()"
      ]
     },
     "metadata": {},
     "output_type": "display_data"
    },
    {
     "data": {
      "application/vnd.jupyter.widget-view+json": {
       "model_id": "",
       "version_major": 2,
       "version_minor": 0
      },
      "text/plain": [
       "FloatProgress(value=0.0, bar_style='info', description='Progress:', layout=Layout(height='25px', width='50%'),…"
      ]
     },
     "metadata": {},
     "output_type": "display_data"
    },
    {
     "name": "stdout",
     "output_type": "stream",
     "text": [
      "+--------------+------------+-----------+\n",
      "|business_stars|review_stars|review_diff|\n",
      "+--------------+------------+-----------+\n",
      "|           4.5|         4.0|        0.5|\n",
      "|           4.0|         5.0|       -1.0|\n",
      "|           4.0|         5.0|       -1.0|\n",
      "|           2.5|         3.0|       -0.5|\n",
      "|           4.5|         5.0|       -0.5|\n",
      "+--------------+------------+-----------+\n",
      "only showing top 5 rows"
     ]
    }
   ],
   "source": [
    "business_review_elite_diff.select(\"business_stars\", \"review_stars\", \"review_diff\").show(5)"
   ]
  },
  {
   "cell_type": "code",
   "execution_count": 47,
   "id": "42c1c172",
   "metadata": {},
   "outputs": [
    {
     "data": {
      "application/vnd.jupyter.widget-view+json": {
       "model_id": "9296640adb1448fc997416e08a9f2411",
       "version_major": 2,
       "version_minor": 0
      },
      "text/plain": [
       "VBox()"
      ]
     },
     "metadata": {},
     "output_type": "display_data"
    },
    {
     "data": {
      "application/vnd.jupyter.widget-view+json": {
       "model_id": "",
       "version_major": 2,
       "version_minor": 0
      },
      "text/plain": [
       "FloatProgress(value=0.0, bar_style='info', description='Progress:', layout=Layout(height='25px', width='50%'),…"
      ]
     },
     "metadata": {},
     "output_type": "display_data"
    }
   ],
   "source": [
    "diff_pdf = business_review_elite_diff.select(\"review_diff\").toPandas()"
   ]
  },
  {
   "cell_type": "code",
   "execution_count": 48,
   "id": "ca2dc601",
   "metadata": {},
   "outputs": [
    {
     "data": {
      "application/vnd.jupyter.widget-view+json": {
       "model_id": "28556cf352ff42949f3433e0e5ca6d49",
       "version_major": 2,
       "version_minor": 0
      },
      "text/plain": [
       "VBox()"
      ]
     },
     "metadata": {},
     "output_type": "display_data"
    },
    {
     "data": {
      "application/vnd.jupyter.widget-view+json": {
       "model_id": "",
       "version_major": 2,
       "version_minor": 0
      },
      "text/plain": [
       "FloatProgress(value=0.0, bar_style='info', description='Progress:', layout=Layout(height='25px', width='50%'),…"
      ]
     },
     "metadata": {},
     "output_type": "display_data"
    },
    {
     "data": {
      "image/png": "[encoded data removed]",
      "text/plain": [
       "<IPython.core.display.Image object>"
      ]
     },
     "metadata": {},
     "output_type": "display_data"
    }
   ],
   "source": [
    "plt.figure(figsize=(10,6))\n",
    "plt.title(\"Difference Between Business Rating and Elite User Rating\")\n",
    "sns.countplot(diff_pdf['review_diff']).set_xlabel(\"Difference in Stars\")\n",
    "%matplot plt"
   ]
  },
  {
   "cell_type": "code",
   "execution_count": 49,
   "id": "3417a227",
   "metadata": {},
   "outputs": [
    {
     "data": {
      "application/vnd.jupyter.widget-view+json": {
       "model_id": "05a45221dc9b4d58bccd533f3455a27e",
       "version_major": 2,
       "version_minor": 0
      },
      "text/plain": [
       "VBox()"
      ]
     },
     "metadata": {},
     "output_type": "display_data"
    },
    {
     "data": {
      "application/vnd.jupyter.widget-view+json": {
       "model_id": "",
       "version_major": 2,
       "version_minor": 0
      },
      "text/plain": [
       "FloatProgress(value=0.0, bar_style='info', description='Progress:', layout=Layout(height='25px', width='50%'),…"
      ]
     },
     "metadata": {},
     "output_type": "display_data"
    }
   ],
   "source": [
    "business_review_elite_users_filtered = business_review_elite_users \\\n",
    "    .filter(col(\"useful\") > 650)"
   ]
  },
  {
   "cell_type": "code",
   "execution_count": 50,
   "id": "0ee458a7",
   "metadata": {},
   "outputs": [
    {
     "data": {
      "application/vnd.jupyter.widget-view+json": {
       "model_id": "3f7257a4569e4cde988d21a88310b506",
       "version_major": 2,
       "version_minor": 0
      },
      "text/plain": [
       "VBox()"
      ]
     },
     "metadata": {},
     "output_type": "display_data"
    },
    {
     "data": {
      "application/vnd.jupyter.widget-view+json": {
       "model_id": "",
       "version_major": 2,
       "version_minor": 0
      },
      "text/plain": [
       "FloatProgress(value=0.0, bar_style='info', description='Progress:', layout=Layout(height='25px', width='50%'),…"
      ]
     },
     "metadata": {},
     "output_type": "display_data"
    }
   ],
   "source": [
    "business_review_elite_diff_filtered = business_review_elite_users_filtered \\\n",
    "    .withColumn(\"review_diff\", (col(\"business_stars\") - col(\"review_stars\")))"
   ]
  },
  {
   "cell_type": "code",
   "execution_count": 51,
   "id": "a21ddacf",
   "metadata": {},
   "outputs": [
    {
     "data": {
      "application/vnd.jupyter.widget-view+json": {
       "model_id": "6fade56bd83048a99ffbf68f96bbd809",
       "version_major": 2,
       "version_minor": 0
      },
      "text/plain": [
       "VBox()"
      ]
     },
     "metadata": {},
     "output_type": "display_data"
    },
    {
     "data": {
      "application/vnd.jupyter.widget-view+json": {
       "model_id": "",
       "version_major": 2,
       "version_minor": 0
      },
      "text/plain": [
       "FloatProgress(value=0.0, bar_style='info', description='Progress:', layout=Layout(height='25px', width='50%'),…"
      ]
     },
     "metadata": {},
     "output_type": "display_data"
    },
    {
     "name": "stdout",
     "output_type": "stream",
     "text": [
      "+--------------+------------+-----------+\n",
      "|business_stars|review_stars|review_diff|\n",
      "+--------------+------------+-----------+\n",
      "|           4.0|         5.0|       -1.0|\n",
      "|           4.5|         4.0|        0.5|\n",
      "|           2.0|         4.0|       -2.0|\n",
      "|           4.0|         5.0|       -1.0|\n",
      "|           4.0|         5.0|       -1.0|\n",
      "+--------------+------------+-----------+\n",
      "only showing top 5 rows"
     ]
    }
   ],
   "source": [
    "business_review_elite_diff_filtered.select(\"business_stars\", \"review_stars\", \"review_diff\").show(5)"
   ]
  },
  {
   "cell_type": "code",
   "execution_count": 52,
   "id": "a0ba74a2",
   "metadata": {},
   "outputs": [
    {
     "data": {
      "application/vnd.jupyter.widget-view+json": {
       "model_id": "94e0e7f7c4f4477f81aab2bc466317c0",
       "version_major": 2,
       "version_minor": 0
      },
      "text/plain": [
       "VBox()"
      ]
     },
     "metadata": {},
     "output_type": "display_data"
    },
    {
     "data": {
      "application/vnd.jupyter.widget-view+json": {
       "model_id": "",
       "version_major": 2,
       "version_minor": 0
      },
      "text/plain": [
       "FloatProgress(value=0.0, bar_style='info', description='Progress:', layout=Layout(height='25px', width='50%'),…"
      ]
     },
     "metadata": {},
     "output_type": "display_data"
    }
   ],
   "source": [
    "diff_pdf_filtered = business_review_elite_diff_filtered.select(\"review_diff\").toPandas()"
   ]
  },
  {
   "cell_type": "code",
   "execution_count": 53,
   "id": "58e835d2",
   "metadata": {},
   "outputs": [
    {
     "data": {
      "application/vnd.jupyter.widget-view+json": {
       "model_id": "d34dc5d5b4584e809f7b0c6aaea98e76",
       "version_major": 2,
       "version_minor": 0
      },
      "text/plain": [
       "VBox()"
      ]
     },
     "metadata": {},
     "output_type": "display_data"
    },
    {
     "data": {
      "application/vnd.jupyter.widget-view+json": {
       "model_id": "",
       "version_major": 2,
       "version_minor": 0
      },
      "text/plain": [
       "FloatProgress(value=0.0, bar_style='info', description='Progress:', layout=Layout(height='25px', width='50%'),…"
      ]
     },
     "metadata": {},
     "output_type": "display_data"
    },
    {
     "data": {
      "image/png": "[encoded data removed]",
      "text/plain": [
       "<IPython.core.display.Image object>"
      ]
     },
     "metadata": {},
     "output_type": "display_data"
    }
   ],
   "source": [
    "plt.figure(figsize=(10,6))\n",
    "plt.title(\"Difference Between Business Rating and Elite User Rating Filtered by Useful Count\")\n",
    "sns.countplot(diff_pdf_filtered['review_diff']).set_xlabel(\"Difference in Stars\")\n",
    "%matplot plt"
   ]
  },
  {
   "cell_type": "markdown",
   "id": "83e2e8d0",
   "metadata": {},
   "source": [
    "To determine whether the reviews of elite users could be trusted I first took the difference between the business reviews and the reviews left by the elite users and then took a count of these various differences. I then filtered the reviews with those who had a useful count greater than 650 since that was the average number of useful counts. I once again took the difference and plotted the count. As we can see from the charts that the distribution of the difference in stars appears to be the same where most of the differences are between -1.0 and 0.5. The reason I filtered by useful count is because those are reviews that other Yelp users found helpful and so I felt that should give us a better idea of whether or not elite users should be trusted. Based on all of this, I would claim that elite users that have a large number of useful reviews (> 650) can be trusted. "
   ]
  }
 ],
 "metadata": {
  "kernelspec": {
   "display_name": "PySpark",
   "language": "",
   "name": "pysparkkernel"
  },
  "language_info": {
   "codemirror_mode": {
    "name": "python",
    "version": 2
   },
   "mimetype": "text/x-python",
   "name": "pyspark",
   "pygments_lexer": "python2"
  }
 },
 "nbformat": 4,
 "nbformat_minor": 5
}
